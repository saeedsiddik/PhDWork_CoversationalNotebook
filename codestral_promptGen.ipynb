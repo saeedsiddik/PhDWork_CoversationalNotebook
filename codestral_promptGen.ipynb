{
 "cells": [
  {
   "cell_type": "code",
   "execution_count": 7,
   "id": "ffd69ff8-f0ac-4d6b-95de-b32cb012a600",
   "metadata": {},
   "outputs": [],
   "source": [
    "\n",
    "import os\n",
    "import pandas as pd\n",
    "import json\n",
    "import nbformat\n",
    "from tqdm import tqdm\n",
    "import time\n",
    "from datetime import datetime"
   ]
  },
  {
   "cell_type": "code",
   "execution_count": 8,
   "id": "4e32b9b9-6a68-4606-b063-092b9c947ead",
   "metadata": {},
   "outputs": [],
   "source": [
    "def get_ipynb_filenames(directory_path):\n",
    "    ipynb_files = []\n",
    "\n",
    "    # Walk through directory and subdirectories\n",
    "    for root, dirs, files in os.walk(directory_path):\n",
    "        for file in files:\n",
    "            if file.endswith('.ipynb'):\n",
    "                # Get the full path of the file or just the file name\n",
    "                ipynb_files.append(os.path.join(root, file))\n",
    "\n",
    "    return ipynb_files"
   ]
  },
  {
   "cell_type": "code",
   "execution_count": 9,
   "id": "47bdba39-285c-46c1-8efd-f36824a8476e",
   "metadata": {},
   "outputs": [],
   "source": [
    "def get_filenames_with_endsWithSubString(directory_path, endsWithSubString):\n",
    "    input_files = []\n",
    "\n",
    "    # Walk through directory and subdirectories\n",
    "    for root, dirs, files in os.walk(directory_path):\n",
    "        for file in files:\n",
    "            if file.endswith(endsWithSubString):\n",
    "                # Get the full path of the file or just the file name\n",
    "                input_files.append(os.path.join(root, file))\n",
    "\n",
    "    return input_files"
   ]
  },
  {
   "cell_type": "markdown",
   "id": "06f98c62-bed7-4546-a105-5e454fd52b21",
   "metadata": {},
   "source": [
    "Read notebook code cells"
   ]
  },
  {
   "cell_type": "code",
   "execution_count": 10,
   "id": "097fa11b-1a45-499e-9e51-7ad9b0413859",
   "metadata": {},
   "outputs": [],
   "source": [
    "def read_code_cells_with_numbers(notebook_path):\n",
    "    with open(notebook_path, 'r', encoding='utf-8') as f:\n",
    "        notebook = json.load(f)\n",
    "\n",
    "    code_cells = []\n",
    "\n",
    "    for i, cell in enumerate(notebook['cells']):\n",
    "        if cell['cell_type'] == 'code':\n",
    "            # Combine the source lines into a single string for each code cell\n",
    "            code = ''.join(cell['source'])\n",
    "            # Store the cell number and code as a tuple\n",
    "            code_cells.append((i+1, code))  # i+1 to make the cell number 1-based\n",
    "\n",
    "    return code_cells"
   ]
  },
  {
   "cell_type": "code",
   "execution_count": 11,
   "id": "fbeed0fe-7b47-4dc2-ab04-410b794e299a",
   "metadata": {
    "scrolled": true,
    "tags": []
   },
   "outputs": [],
   "source": [
    "def read_all_cells(notebook_path):\n",
    "    with open(notebook_path, 'r', encoding='utf-8') as f:\n",
    "        notebook = json.load(f)\n",
    "\n",
    "    nb_cells = []\n",
    "\n",
    "    for i, cell in enumerate(notebook['cells']):\n",
    "            # Combine the source lines into a single string for each code cell\n",
    "            code = ''.join(cell['source'])\n",
    "            # Store the cell number and code as a tuple\n",
    "            nb_cells.append((i+1, code, cell['cell_type']))  # i+1 to make the cell number 1-based\n",
    "            \n",
    "            \n",
    "\n",
    "    return nb_cells"
   ]
  },
  {
   "cell_type": "code",
   "execution_count": 14,
   "id": "a010c229-fb8b-4a98-b4be-fc40dc8fbeab",
   "metadata": {},
   "outputs": [
    {
     "data": {
      "text/plain": [
       "372"
      ]
     },
     "execution_count": 14,
     "metadata": {},
     "output_type": "execute_result"
    }
   ],
   "source": [
    "directory_path = '/home/jupyter-saeed3/Dataset/kgtorrent_sample_384/'\n",
    "ipynb_files = get_ipynb_filenames(directory_path)\n",
    "len(ipynb_files)"
   ]
  },
  {
   "cell_type": "code",
   "execution_count": null,
   "id": "3be487f0-ceb7-40b9-9dad-f99281bc8148",
   "metadata": {},
   "outputs": [],
   "source": []
  },
  {
   "cell_type": "code",
   "execution_count": null,
   "id": "0fc746d4-e8b7-4646-9ed5-ffbf3600820f",
   "metadata": {},
   "outputs": [],
   "source": []
  },
  {
   "cell_type": "code",
   "execution_count": null,
   "id": "335d84dc-8e0a-4f11-982c-27020dff8c66",
   "metadata": {},
   "outputs": [],
   "source": []
  },
  {
   "cell_type": "markdown",
   "id": "e8f8de2b-cbd3-495f-9c71-28408c67777e",
   "metadata": {
    "tags": []
   },
   "source": [
    "# Link Mistral API"
   ]
  },
  {
   "cell_type": "code",
   "execution_count": 15,
   "id": "294e4a51-e120-4559-bd7c-0911c3804954",
   "metadata": {},
   "outputs": [],
   "source": [
    "import requests\n",
    "import json\n",
    "\n",
    "# Replace 'YOUR_API_KEY' with the API key you generated\n",
    "API_KEY = \"FsYbhKyXBjQeontjJFOdjVACgtH0ljEN\"\n",
    "\n",
    "API_URL = \"https://codestral.mistral.ai/v1/fim/completions\""
   ]
  },
  {
   "cell_type": "code",
   "execution_count": 16,
   "id": "ecfa9038-9ec2-410b-ad5d-76bcec73dd7f",
   "metadata": {},
   "outputs": [],
   "source": [
    "def asking_to_codestral(asking_request, model=\"codestral-latest\"):\n",
    "    headers = {\n",
    "        \"Authorization\": f\"Bearer {API_KEY}\",\n",
    "        \"Content-Type\": \"application/json\",\n",
    "        \"Accept\": \"application/json\"\n",
    "    }\n",
    "\n",
    "    # Prompt to instruct the model to generate a description\n",
    "    # prompt = f\"Describe the following code snippet:\\n\\n{code_snippet}\\n\\nDescription:\"\n",
    "\n",
    "    payload = {\n",
    "        \"model\": model,\n",
    "        \"prompt\": asking_request,\n",
    "        \"temperature\": 0.7  # Adjust for randomness\n",
    "        # \"max_tokens\": 70    # Limit the response length\n",
    "    }\n",
    "\n",
    "    try:\n",
    "        response = requests.post(API_URL, headers=headers, json=payload)\n",
    "        response.raise_for_status()\n",
    "        result = response.json()\n",
    "        # return result\n",
    "        answer = result[\"choices\"][0][\"message\"][\"content\"]\n",
    "        return answer\n",
    "        # return result.get(\"choices\", [{}])[0].get(\"text\", \"No description generated.\")\n",
    "    except requests.exceptions.RequestException as e:\n",
    "        return f\"Error: {e}\"\n"
   ]
  },
  {
   "cell_type": "code",
   "execution_count": 24,
   "id": "3fb43a57-1f6d-442a-8bb8-a473e9aff432",
   "metadata": {},
   "outputs": [
    {
     "name": "stdout",
     "output_type": "stream",
     "text": [
      "Generated Description:\n",
      "\n",
      "\n",
      "The code snippet presents a recursive function named 'factorial' that calculates the factorial of a given non-negative integer 'n'. The function checks if 'n' equals 0, in which case it returns 1, otherwise it multiplies 'n' with the factorial of 'n-1' until it reaches the base case (n=0).\n"
     ]
    }
   ],
   "source": [
    "code_snippet = \"\"\"def factorial(n):\n",
    "if n == 0:\n",
    "    return 1\n",
    "else:\n",
    "    return n * factorial(n - 1)\"\"\"\n",
    "\n",
    "description = asking_to_codestral(\"describe this code snippet in a sentence. \" + code_snippet)\n",
    "print(\"Generated Description:\")\n",
    "print(description)"
   ]
  },
  {
   "cell_type": "code",
   "execution_count": null,
   "id": "e95af0ee-f55d-4cec-af84-a29974e4b735",
   "metadata": {},
   "outputs": [],
   "source": []
  },
  {
   "cell_type": "code",
   "execution_count": null,
   "id": "78287b2a-a357-4234-85ae-aa0e61a0a3a6",
   "metadata": {},
   "outputs": [],
   "source": []
  },
  {
   "cell_type": "markdown",
   "id": "4cec3916-260f-41ed-b685-bf2154f03b3b",
   "metadata": {},
   "source": [
    "# Ask Code Stral to get the promt for the code cell"
   ]
  },
  {
   "cell_type": "code",
   "execution_count": 17,
   "id": "9ec25ff5-a2a0-47a2-81e3-fefb433a8995",
   "metadata": {},
   "outputs": [
    {
     "data": {
      "text/plain": [
       "372"
      ]
     },
     "execution_count": 17,
     "metadata": {},
     "output_type": "execute_result"
    }
   ],
   "source": [
    "directory_path = '/home/jupyter-saeed3/Dataset/kgtorrent_sample_384/'\n",
    "output_path = '/home/jupyter-saeed3/Dataset/kgtorrent_384_prompt/'\n",
    "\n",
    "# output_path = '/home/jupyter-saeed3/LLM_chat_conversion/'\n",
    "\n",
    "\n",
    "ipynb_files = get_ipynb_filenames(directory_path)\n",
    "len(ipynb_files)"
   ]
  },
  {
   "cell_type": "markdown",
   "id": "32b0d564-4852-478a-a550-164381a4111a",
   "metadata": {},
   "source": [
    "provide earlier code to the model when asking to generate the prompt of the current cell. "
   ]
  },
  {
   "cell_type": "code",
   "execution_count": 21,
   "id": "84a8952f-3c3d-44f9-9a40-71d548d65e4d",
   "metadata": {
    "scrolled": true,
    "tags": []
   },
   "outputs": [
    {
     "name": "stderr",
     "output_type": "stream",
     "text": [
      " 99%|█████████▉| 171/172 [17:06<00:06,  6.00s/it]"
     ]
    },
    {
     "name": "stdout",
     "output_type": "stream",
     "text": [
      "codestral prompt generation complete\n"
     ]
    },
    {
     "name": "stderr",
     "output_type": "stream",
     "text": [
      "\n"
     ]
    }
   ],
   "source": [
    "for nb_file_name, iterate in zip(ipynb_files[200:], tqdm(range(172))):\n",
    "    output_file = nb_file_name.replace('.ipynb','_codestral.csv').split('/')[-1]\n",
    "    output_file = output_path + output_file \n",
    "\n",
    "    formatted_time = datetime.now().strftime(\"%Y-%m-%d %H:%M:%S\")\n",
    "    time.sleep(0.05)\n",
    "    \n",
    "    try:\n",
    "        # nb_cells = read_all_cells(nb_file_name)\n",
    "        nb_cells = read_code_cells_with_numbers(nb_file_name)\n",
    "        previous_code_cells = ''\n",
    "        \n",
    "        cell_number_list, cell_type_list, prompt_list, cell_content_list = [], [], [], []\n",
    "\n",
    "        for cell_number, current_code_cell in nb_cells:\n",
    "            if len(current_code_cell) > 0:\n",
    "                               \n",
    "                asking = \"What specific prompt should be used to generate the following code as the model's output? The answer should be a like a prompt which further be asked by an user. DO NOT generate extra texts. Provide precise answer.  Here is the code: \\n\" + current_code_cell + \"\\n\\n\\n\\n Here is the previous part of that code snippet. Use this to understand what happerns earlier in this notebook. \" +  previous_code_cells\n",
    "                \n",
    "                previous_code_cells = previous_code_cells + current_code_cell\n",
    "\n",
    "                response = asking_to_codestral(asking)\n",
    "\n",
    "                # response_corrected = asking_to_codestral(\"Its a response from your model, but I need a precise answer. The answer should be a like a prompt which further be asked by an user. Here is the original response \\n \" + response) \n",
    "                \n",
    "                prompt_list.append(response)\n",
    "                cell_content_list.append(current_code_cell)\n",
    "                cell_number_list.append(cell_number)\n",
    "                # cell_type_list.append(cell_type)\n",
    "\n",
    "\n",
    "        df = pd.DataFrame({'cell_number':cell_number_list, 'prompt': prompt_list, 'cell_content': cell_content_list})\n",
    "        df.to_csv(output_file)\n",
    "        \n",
    "        with open(\"log_sample_gh_codestral.txt\", \"a\") as file:\n",
    "            file.write(formatted_time + '  done   '  + output_file + '\\n')\n",
    "        \n",
    "    except Exception as e:\n",
    "        \n",
    "        with open(\"log_sample_gh_codestral.txt\", \"a\") as file:\n",
    "            file.write(formatted_time + '  fail   '  + output_file + str(e) + '\\n')\n",
    "        pass\n",
    "\n",
    "print ('codestral prompt generation complete')"
   ]
  },
  {
   "cell_type": "code",
   "execution_count": 6,
   "id": "22e0dee6-25ea-4650-9c40-b5c4448d18a6",
   "metadata": {},
   "outputs": [
    {
     "name": "stdout",
     "output_type": "stream",
     "text": [
      "codestral\n"
     ]
    }
   ],
   "source": [
    "print ('codestral prompt generation complete')"
   ]
  },
  {
   "cell_type": "code",
   "execution_count": null,
   "id": "6f4387d4-d2c7-442b-ac5e-bbdd4a9de238",
   "metadata": {},
   "outputs": [],
   "source": []
  },
  {
   "cell_type": "code",
   "execution_count": null,
   "id": "0a509b83-7993-488b-96ed-dd9f7fa87f78",
   "metadata": {},
   "outputs": [],
   "source": []
  },
  {
   "cell_type": "markdown",
   "id": "f147c185-96e6-4cc3-aca4-b82c20a6c684",
   "metadata": {},
   "source": [
    "### Read compare csvs"
   ]
  },
  {
   "cell_type": "code",
   "execution_count": 70,
   "id": "fbf24383-d28d-47cc-9f24-ee0afe099c63",
   "metadata": {},
   "outputs": [
    {
     "data": {
      "text/plain": [
       "5432"
      ]
     },
     "execution_count": 70,
     "metadata": {},
     "output_type": "execute_result"
    }
   ],
   "source": [
    "compare_csvs = get_filenames_with_endsWithSubString(input_file_directory_with_prompt, \"Compare_bert.csv\")\n",
    "len(compare_csvs)\n"
   ]
  },
  {
   "cell_type": "code",
   "execution_count": 72,
   "id": "a95175e2-5026-4dab-ac86-c03be10658ca",
   "metadata": {},
   "outputs": [
    {
     "data": {
      "text/plain": [
       "'/home/jupyter-saeed3/LLM_chat_conversion/generated_prompt/nb_gh_sample/nb_393848_promptCompare_bert.csv'"
      ]
     },
     "execution_count": 72,
     "metadata": {},
     "output_type": "execute_result"
    }
   ],
   "source": [
    "compare_csvs[0]"
   ]
  },
  {
   "cell_type": "code",
   "execution_count": 76,
   "id": "6e741c5a-37b5-4114-9fca-cc111cf6933d",
   "metadata": {
    "scrolled": true,
    "tags": []
   },
   "outputs": [
    {
     "data": {
      "text/html": [
       "<div>\n",
       "<style scoped>\n",
       "    .dataframe tbody tr th:only-of-type {\n",
       "        vertical-align: middle;\n",
       "    }\n",
       "\n",
       "    .dataframe tbody tr th {\n",
       "        vertical-align: top;\n",
       "    }\n",
       "\n",
       "    .dataframe thead th {\n",
       "        text-align: right;\n",
       "    }\n",
       "</style>\n",
       "<table border=\"1\" class=\"dataframe\">\n",
       "  <thead>\n",
       "    <tr style=\"text-align: right;\">\n",
       "      <th></th>\n",
       "      <th>Unnamed: 0</th>\n",
       "      <th>cell_number</th>\n",
       "      <th>similarity</th>\n",
       "      <th>gpt35terbo_prompt</th>\n",
       "      <th>gpt4oMini_prompt</th>\n",
       "      <th>cell_content</th>\n",
       "    </tr>\n",
       "  </thead>\n",
       "  <tbody>\n",
       "    <tr>\n",
       "      <th>0</th>\n",
       "      <td>0</td>\n",
       "      <td>1</td>\n",
       "      <td>0.526510</td>\n",
       "      <td>Prompt: \\nExplain how the autoreload extension...</td>\n",
       "      <td>Generate a code snippet that includes the foll...</td>\n",
       "      <td>%load_ext autoreload\\n%autoreload 2</td>\n",
       "    </tr>\n",
       "    <tr>\n",
       "      <th>1</th>\n",
       "      <td>1</td>\n",
       "      <td>2</td>\n",
       "      <td>0.782681</td>\n",
       "      <td>Please generate the code snippet for setting u...</td>\n",
       "      <td>Generate Python code that sets up matplotlib f...</td>\n",
       "      <td>import matplotlib as mpl\\nfrom matplotlib impo...</td>\n",
       "    </tr>\n",
       "    <tr>\n",
       "      <th>2</th>\n",
       "      <td>2</td>\n",
       "      <td>3</td>\n",
       "      <td>0.787148</td>\n",
       "      <td>Please write a prompt that would lead to the i...</td>\n",
       "      <td>Generate a Python code snippet that imports th...</td>\n",
       "      <td>import numpy as np\\nimport random as rn</td>\n",
       "    </tr>\n",
       "    <tr>\n",
       "      <th>3</th>\n",
       "      <td>3</td>\n",
       "      <td>4</td>\n",
       "      <td>0.707787</td>\n",
       "      <td>Prompt: Import the necessary functions from th...</td>\n",
       "      <td>Generate a Python code snippet that imports th...</td>\n",
       "      <td>from scipy.spatial.distance import pdist,cdist...</td>\n",
       "    </tr>\n",
       "    <tr>\n",
       "      <th>4</th>\n",
       "      <td>4</td>\n",
       "      <td>5</td>\n",
       "      <td>0.691481</td>\n",
       "      <td>Provide a prompt that would lead to the creati...</td>\n",
       "      <td>Generate a Python function named `center_axis`...</td>\n",
       "      <td>def center_axis(ax,lim=1):\\n    ax.axis([-lim,...</td>\n",
       "    </tr>\n",
       "    <tr>\n",
       "      <th>5</th>\n",
       "      <td>5</td>\n",
       "      <td>6</td>\n",
       "      <td>0.598082</td>\n",
       "      <td>Please write a prompt that will generate code ...</td>\n",
       "      <td>Generate a Python code snippet that creates tw...</td>\n",
       "      <td>Xp = [[-1.5,-1.5],\\n      [-1.0,-0.5],\\n      ...</td>\n",
       "    </tr>\n",
       "    <tr>\n",
       "      <th>6</th>\n",
       "      <td>6</td>\n",
       "      <td>7</td>\n",
       "      <td>0.510788</td>\n",
       "      <td>Create a scatter plot with two different sets ...</td>\n",
       "      <td>Generate a Python code snippet using Matplotli...</td>\n",
       "      <td>fig,ax = plt.subplots(1,1,subplot_kw={'aspect'...</td>\n",
       "    </tr>\n",
       "    <tr>\n",
       "      <th>7</th>\n",
       "      <td>7</td>\n",
       "      <td>8</td>\n",
       "      <td>0.176769</td>\n",
       "      <td>What is the prompt that should be used to gene...</td>\n",
       "      <td>Generate a Python code snippet that creates a ...</td>\n",
       "      <td>fig,ax = plt.subplots(1,1,subplot_kw={'aspect'...</td>\n",
       "    </tr>\n",
       "    <tr>\n",
       "      <th>8</th>\n",
       "      <td>8</td>\n",
       "      <td>9</td>\n",
       "      <td>0.778508</td>\n",
       "      <td>Please write a prompt that will generate code ...</td>\n",
       "      <td>Generate a code snippet that concatenates two ...</td>\n",
       "      <td>X = np.concatenate((Xp,Xn),axis=0)\\nX = np.ins...</td>\n",
       "    </tr>\n",
       "    <tr>\n",
       "      <th>9</th>\n",
       "      <td>9</td>\n",
       "      <td>10</td>\n",
       "      <td>0.582609</td>\n",
       "      <td>Create a prompt that initializes an exponentia...</td>\n",
       "      <td>Generate a Python code snippet that imports a ...</td>\n",
       "      <td>import helper as he\\nfrom cd.model import util...</td>\n",
       "    </tr>\n",
       "    <tr>\n",
       "      <th>10</th>\n",
       "      <td>10</td>\n",
       "      <td>11</td>\n",
       "      <td>0.298876</td>\n",
       "      <td>What is the prompt that should be used to gene...</td>\n",
       "      <td>Generate the following code snippet based on t...</td>\n",
       "      <td>[q1,q2,bias] = he.solve(X*r[:,None],u=u,lamb=0...</td>\n",
       "    </tr>\n",
       "    <tr>\n",
       "      <th>11</th>\n",
       "      <td>11</td>\n",
       "      <td>12</td>\n",
       "      <td>0.542425</td>\n",
       "      <td>Create a prompt that will generate a code snip...</td>\n",
       "      <td>Generate a Python code snippet that creates a ...</td>\n",
       "      <td>fig,ax = plt.subplots(1,1,subplot_kw={'aspect'...</td>\n",
       "    </tr>\n",
       "    <tr>\n",
       "      <th>12</th>\n",
       "      <td>12</td>\n",
       "      <td>13</td>\n",
       "      <td>-0.024011</td>\n",
       "      <td>Provide the prompt that should be used to gene...</td>\n",
       "      <td>```python\\nXp = [[-1.,-1.],\\n      [1.,1.]]\\nX...</td>\n",
       "      <td>Xp = [[-1.,-1.],\\n      [1.,1.]]\\nXn = [[-1.,1...</td>\n",
       "    </tr>\n",
       "    <tr>\n",
       "      <th>13</th>\n",
       "      <td>13</td>\n",
       "      <td>14</td>\n",
       "      <td>0.545852</td>\n",
       "      <td>Create a prompt that generates a code snippet ...</td>\n",
       "      <td>Generate a Python code snippet that creates tw...</td>\n",
       "      <td>fig,[ax,ax2] = plt.subplots(2,1,subplot_kw={'a...</td>\n",
       "    </tr>\n",
       "    <tr>\n",
       "      <th>14</th>\n",
       "      <td>14</td>\n",
       "      <td>15</td>\n",
       "      <td>0.631825</td>\n",
       "      <td>Please write a prompt that would generate code...</td>\n",
       "      <td>Generate the following code snippet in Python ...</td>\n",
       "      <td>X = np.concatenate((Xp,Xn),axis=0)\\n# X = np.i...</td>\n",
       "    </tr>\n",
       "    <tr>\n",
       "      <th>15</th>\n",
       "      <td>15</td>\n",
       "      <td>16</td>\n",
       "      <td>0.876723</td>\n",
       "      <td>Generate a code snippet that defines a functio...</td>\n",
       "      <td>Generate a Python function named `quad1` that ...</td>\n",
       "      <td>def quad1(x):\\n    return np.array([x[0]**2,x[...</td>\n",
       "    </tr>\n",
       "    <tr>\n",
       "      <th>16</th>\n",
       "      <td>16</td>\n",
       "      <td>17</td>\n",
       "      <td>0.203389</td>\n",
       "      <td>What prompt should be used to generate the giv...</td>\n",
       "      <td>Generate the following code snippet: `phiX = n...</td>\n",
       "      <td>phiX = np.apply_along_axis(quad1,1,X)</td>\n",
       "    </tr>\n",
       "    <tr>\n",
       "      <th>17</th>\n",
       "      <td>17</td>\n",
       "      <td>18</td>\n",
       "      <td>0.398281</td>\n",
       "      <td>What is the code to calculate the solution wit...</td>\n",
       "      <td>Generate the following code snippet based on t...</td>\n",
       "      <td>q = he.solve(phiX*r[:,None],u=u,lamb=0.1)[0]\\n...</td>\n",
       "    </tr>\n",
       "    <tr>\n",
       "      <th>18</th>\n",
       "      <td>18</td>\n",
       "      <td>19</td>\n",
       "      <td>0.341635</td>\n",
       "      <td>Generate a code snippet that plots the decisio...</td>\n",
       "      <td>Generate the following Python code snippet tha...</td>\n",
       "      <td>Xp = [[-1.5,-1.5],\\n      [-1.0,-0.5],\\n      ...</td>\n",
       "    </tr>\n",
       "    <tr>\n",
       "      <th>19</th>\n",
       "      <td>19</td>\n",
       "      <td>20</td>\n",
       "      <td>0.304922</td>\n",
       "      <td>What prompt should be used to generate the giv...</td>\n",
       "      <td>Generate the following code snippet based on t...</td>\n",
       "      <td>X = np.concatenate((Xp,Xn),axis=0)\\n# X = np.i...</td>\n",
       "    </tr>\n",
       "    <tr>\n",
       "      <th>20</th>\n",
       "      <td>20</td>\n",
       "      <td>21</td>\n",
       "      <td>0.748606</td>\n",
       "      <td>Generate a code snippet that applies the funct...</td>\n",
       "      <td>```python\\nphiX = np.apply_along_axis(quad1, 1...</td>\n",
       "      <td>phiX = np.apply_along_axis(quad1,1,X)</td>\n",
       "    </tr>\n",
       "    <tr>\n",
       "      <th>21</th>\n",
       "      <td>21</td>\n",
       "      <td>22</td>\n",
       "      <td>0.364443</td>\n",
       "      <td>What is the code snippet that calculates the q...</td>\n",
       "      <td>Generate the following code snippet that conti...</td>\n",
       "      <td>q = he.solve(phiX*r[:,None],u=ut.ExpUtility(0....</td>\n",
       "    </tr>\n",
       "    <tr>\n",
       "      <th>22</th>\n",
       "      <td>22</td>\n",
       "      <td>23</td>\n",
       "      <td>0.538318</td>\n",
       "      <td>Generate a code snippet to create two subplots...</td>\n",
       "      <td>```plaintext\\nGenerate a Python code snippet t...</td>\n",
       "      <td>fig,[ax,ax2] = plt.subplots(2,1,subplot_kw={'a...</td>\n",
       "    </tr>\n",
       "    <tr>\n",
       "      <th>23</th>\n",
       "      <td>23</td>\n",
       "      <td>24</td>\n",
       "      <td>0.796631</td>\n",
       "      <td>Generate a code snippet that creates two subpl...</td>\n",
       "      <td>Generate a Python code snippet for creating a ...</td>\n",
       "      <td>fig,ax = plt.subplots(1,1,subplot_kw={'aspect'...</td>\n",
       "    </tr>\n",
       "    <tr>\n",
       "      <th>24</th>\n",
       "      <td>24</td>\n",
       "      <td>25</td>\n",
       "      <td>0.158493</td>\n",
       "      <td>What prompt should be used to generate the giv...</td>\n",
       "      <td>Generate the following code snippet using nump...</td>\n",
       "      <td>X = np.concatenate((Xp,Xn),axis=0)\\nX = np.ins...</td>\n",
       "    </tr>\n",
       "    <tr>\n",
       "      <th>25</th>\n",
       "      <td>25</td>\n",
       "      <td>26</td>\n",
       "      <td>0.596517</td>\n",
       "      <td>Provide a prompt that would generate the code ...</td>\n",
       "      <td>```python\\nGenerate a Python function named `g...</td>\n",
       "      <td>sigma = 0.5\\ndef gauss_K(X1,X2=None):\\n    if ...</td>\n",
       "    </tr>\n",
       "    <tr>\n",
       "      <th>26</th>\n",
       "      <td>26</td>\n",
       "      <td>27</td>\n",
       "      <td>0.487222</td>\n",
       "      <td>What is the function used to calculate the Gau...</td>\n",
       "      <td>Generate the following line of code: `K = gaus...</td>\n",
       "      <td>K = gauss_K(X)</td>\n",
       "    </tr>\n",
       "    <tr>\n",
       "      <th>27</th>\n",
       "      <td>27</td>\n",
       "      <td>28</td>\n",
       "      <td>0.309098</td>\n",
       "      <td>What prompt should be used to generate the giv...</td>\n",
       "      <td>Generate the following code snippet: \\n\\n```py...</td>\n",
       "      <td>a = he.solve_k(K,r,u,lamb=0.1)*8</td>\n",
       "    </tr>\n",
       "    <tr>\n",
       "      <th>28</th>\n",
       "      <td>28</td>\n",
       "      <td>29</td>\n",
       "      <td>0.174178</td>\n",
       "      <td>What is the prompt for this code snippet?</td>\n",
       "      <td>Generate a Python code snippet that includes t...</td>\n",
       "      <td>delta = 100\\nxx1 = np.linspace(-lim,lim,delta)...</td>\n",
       "    </tr>\n",
       "    <tr>\n",
       "      <th>29</th>\n",
       "      <td>29</td>\n",
       "      <td>30</td>\n",
       "      <td>0.583517</td>\n",
       "      <td>Generate a code snippet that creates a scatter...</td>\n",
       "      <td>```plaintext\\nGenerate a Python code snippet t...</td>\n",
       "      <td>fig,ax = plt.subplots(1,1,subplot_kw={'aspect'...</td>\n",
       "    </tr>\n",
       "  </tbody>\n",
       "</table>\n",
       "</div>"
      ],
      "text/plain": [
       "    Unnamed: 0  cell_number  similarity  \\\n",
       "0            0            1    0.526510   \n",
       "1            1            2    0.782681   \n",
       "2            2            3    0.787148   \n",
       "3            3            4    0.707787   \n",
       "4            4            5    0.691481   \n",
       "5            5            6    0.598082   \n",
       "6            6            7    0.510788   \n",
       "7            7            8    0.176769   \n",
       "8            8            9    0.778508   \n",
       "9            9           10    0.582609   \n",
       "10          10           11    0.298876   \n",
       "11          11           12    0.542425   \n",
       "12          12           13   -0.024011   \n",
       "13          13           14    0.545852   \n",
       "14          14           15    0.631825   \n",
       "15          15           16    0.876723   \n",
       "16          16           17    0.203389   \n",
       "17          17           18    0.398281   \n",
       "18          18           19    0.341635   \n",
       "19          19           20    0.304922   \n",
       "20          20           21    0.748606   \n",
       "21          21           22    0.364443   \n",
       "22          22           23    0.538318   \n",
       "23          23           24    0.796631   \n",
       "24          24           25    0.158493   \n",
       "25          25           26    0.596517   \n",
       "26          26           27    0.487222   \n",
       "27          27           28    0.309098   \n",
       "28          28           29    0.174178   \n",
       "29          29           30    0.583517   \n",
       "\n",
       "                                    gpt35terbo_prompt  \\\n",
       "0   Prompt: \\nExplain how the autoreload extension...   \n",
       "1   Please generate the code snippet for setting u...   \n",
       "2   Please write a prompt that would lead to the i...   \n",
       "3   Prompt: Import the necessary functions from th...   \n",
       "4   Provide a prompt that would lead to the creati...   \n",
       "5   Please write a prompt that will generate code ...   \n",
       "6   Create a scatter plot with two different sets ...   \n",
       "7   What is the prompt that should be used to gene...   \n",
       "8   Please write a prompt that will generate code ...   \n",
       "9   Create a prompt that initializes an exponentia...   \n",
       "10  What is the prompt that should be used to gene...   \n",
       "11  Create a prompt that will generate a code snip...   \n",
       "12  Provide the prompt that should be used to gene...   \n",
       "13  Create a prompt that generates a code snippet ...   \n",
       "14  Please write a prompt that would generate code...   \n",
       "15  Generate a code snippet that defines a functio...   \n",
       "16  What prompt should be used to generate the giv...   \n",
       "17  What is the code to calculate the solution wit...   \n",
       "18  Generate a code snippet that plots the decisio...   \n",
       "19  What prompt should be used to generate the giv...   \n",
       "20  Generate a code snippet that applies the funct...   \n",
       "21  What is the code snippet that calculates the q...   \n",
       "22  Generate a code snippet to create two subplots...   \n",
       "23  Generate a code snippet that creates two subpl...   \n",
       "24  What prompt should be used to generate the giv...   \n",
       "25  Provide a prompt that would generate the code ...   \n",
       "26  What is the function used to calculate the Gau...   \n",
       "27  What prompt should be used to generate the giv...   \n",
       "28          What is the prompt for this code snippet?   \n",
       "29  Generate a code snippet that creates a scatter...   \n",
       "\n",
       "                                     gpt4oMini_prompt  \\\n",
       "0   Generate a code snippet that includes the foll...   \n",
       "1   Generate Python code that sets up matplotlib f...   \n",
       "2   Generate a Python code snippet that imports th...   \n",
       "3   Generate a Python code snippet that imports th...   \n",
       "4   Generate a Python function named `center_axis`...   \n",
       "5   Generate a Python code snippet that creates tw...   \n",
       "6   Generate a Python code snippet using Matplotli...   \n",
       "7   Generate a Python code snippet that creates a ...   \n",
       "8   Generate a code snippet that concatenates two ...   \n",
       "9   Generate a Python code snippet that imports a ...   \n",
       "10  Generate the following code snippet based on t...   \n",
       "11  Generate a Python code snippet that creates a ...   \n",
       "12  ```python\\nXp = [[-1.,-1.],\\n      [1.,1.]]\\nX...   \n",
       "13  Generate a Python code snippet that creates tw...   \n",
       "14  Generate the following code snippet in Python ...   \n",
       "15  Generate a Python function named `quad1` that ...   \n",
       "16  Generate the following code snippet: `phiX = n...   \n",
       "17  Generate the following code snippet based on t...   \n",
       "18  Generate the following Python code snippet tha...   \n",
       "19  Generate the following code snippet based on t...   \n",
       "20  ```python\\nphiX = np.apply_along_axis(quad1, 1...   \n",
       "21  Generate the following code snippet that conti...   \n",
       "22  ```plaintext\\nGenerate a Python code snippet t...   \n",
       "23  Generate a Python code snippet for creating a ...   \n",
       "24  Generate the following code snippet using nump...   \n",
       "25  ```python\\nGenerate a Python function named `g...   \n",
       "26  Generate the following line of code: `K = gaus...   \n",
       "27  Generate the following code snippet: \\n\\n```py...   \n",
       "28  Generate a Python code snippet that includes t...   \n",
       "29  ```plaintext\\nGenerate a Python code snippet t...   \n",
       "\n",
       "                                         cell_content  \n",
       "0                 %load_ext autoreload\\n%autoreload 2  \n",
       "1   import matplotlib as mpl\\nfrom matplotlib impo...  \n",
       "2             import numpy as np\\nimport random as rn  \n",
       "3   from scipy.spatial.distance import pdist,cdist...  \n",
       "4   def center_axis(ax,lim=1):\\n    ax.axis([-lim,...  \n",
       "5   Xp = [[-1.5,-1.5],\\n      [-1.0,-0.5],\\n      ...  \n",
       "6   fig,ax = plt.subplots(1,1,subplot_kw={'aspect'...  \n",
       "7   fig,ax = plt.subplots(1,1,subplot_kw={'aspect'...  \n",
       "8   X = np.concatenate((Xp,Xn),axis=0)\\nX = np.ins...  \n",
       "9   import helper as he\\nfrom cd.model import util...  \n",
       "10  [q1,q2,bias] = he.solve(X*r[:,None],u=u,lamb=0...  \n",
       "11  fig,ax = plt.subplots(1,1,subplot_kw={'aspect'...  \n",
       "12  Xp = [[-1.,-1.],\\n      [1.,1.]]\\nXn = [[-1.,1...  \n",
       "13  fig,[ax,ax2] = plt.subplots(2,1,subplot_kw={'a...  \n",
       "14  X = np.concatenate((Xp,Xn),axis=0)\\n# X = np.i...  \n",
       "15  def quad1(x):\\n    return np.array([x[0]**2,x[...  \n",
       "16              phiX = np.apply_along_axis(quad1,1,X)  \n",
       "17  q = he.solve(phiX*r[:,None],u=u,lamb=0.1)[0]\\n...  \n",
       "18  Xp = [[-1.5,-1.5],\\n      [-1.0,-0.5],\\n      ...  \n",
       "19  X = np.concatenate((Xp,Xn),axis=0)\\n# X = np.i...  \n",
       "20              phiX = np.apply_along_axis(quad1,1,X)  \n",
       "21  q = he.solve(phiX*r[:,None],u=ut.ExpUtility(0....  \n",
       "22  fig,[ax,ax2] = plt.subplots(2,1,subplot_kw={'a...  \n",
       "23  fig,ax = plt.subplots(1,1,subplot_kw={'aspect'...  \n",
       "24  X = np.concatenate((Xp,Xn),axis=0)\\nX = np.ins...  \n",
       "25  sigma = 0.5\\ndef gauss_K(X1,X2=None):\\n    if ...  \n",
       "26                                     K = gauss_K(X)  \n",
       "27                   a = he.solve_k(K,r,u,lamb=0.1)*8  \n",
       "28  delta = 100\\nxx1 = np.linspace(-lim,lim,delta)...  \n",
       "29  fig,ax = plt.subplots(1,1,subplot_kw={'aspect'...  "
      ]
     },
     "execution_count": 76,
     "metadata": {},
     "output_type": "execute_result"
    }
   ],
   "source": [
    "df = pd.read_csv(compare_csvs[0])\n",
    "df"
   ]
  },
  {
   "cell_type": "code",
   "execution_count": null,
   "id": "34ea1310-49d6-4880-85a4-ca85e9807269",
   "metadata": {},
   "outputs": [],
   "source": []
  },
  {
   "cell_type": "code",
   "execution_count": null,
   "id": "8986b3f3-fbd6-44e9-8f6d-93af3586a3ae",
   "metadata": {
    "scrolled": true,
    "tags": []
   },
   "outputs": [],
   "source": [
    "for compare_csv in compare_csvs[:100]:\n",
    "    compare_df = pd.read_csv(compare_csv)\n",
    "    \n",
    "    count_greater_than_0_7 = (compare_df['similarity'] > 0.7).sum()\n",
    "    total_count = compare_df['similarity'].size\n",
    "    \n",
    "    print (\" Similarity \", count_greater_than_0_7 * 100 / total_count , \" % \")\n",
    "    "
   ]
  },
  {
   "cell_type": "code",
   "execution_count": null,
   "id": "b51013d1-c67a-4a42-a4d9-85db6b2be8f8",
   "metadata": {},
   "outputs": [],
   "source": []
  },
  {
   "cell_type": "code",
   "execution_count": null,
   "id": "3f260be2-2e85-4316-a96a-cc2c9e59fa17",
   "metadata": {},
   "outputs": [],
   "source": []
  },
  {
   "cell_type": "code",
   "execution_count": 49,
   "id": "b03c2e81-9db3-451c-bb35-b737069b8a60",
   "metadata": {
    "scrolled": true,
    "tags": []
   },
   "outputs": [
    {
     "name": "stdout",
     "output_type": "stream",
     "text": [
      "Defaulting to user installation because normal site-packages is not writeable\n",
      "Requirement already satisfied: transformers in /home/jupyter-saeed3/.local/lib/python3.9/site-packages (4.40.0)\n",
      "Requirement already satisfied: scipy in /home/jupyter-saeed3/.local/lib/python3.9/site-packages (1.13.0)\n",
      "Requirement already satisfied: torch in /opt/tljh/user/lib/python3.9/site-packages (1.10.0+cu113)\n",
      "Requirement already satisfied: filelock in /home/jupyter-saeed3/.local/lib/python3.9/site-packages (from transformers) (3.13.4)\n",
      "Requirement already satisfied: huggingface-hub<1.0,>=0.19.3 in /home/jupyter-saeed3/.local/lib/python3.9/site-packages (from transformers) (0.22.2)\n",
      "Requirement already satisfied: numpy>=1.17 in /home/jupyter-saeed3/.local/lib/python3.9/site-packages (from transformers) (1.26.4)\n",
      "Requirement already satisfied: packaging>=20.0 in /home/jupyter-saeed3/.local/lib/python3.9/site-packages (from transformers) (24.1)\n",
      "Requirement already satisfied: pyyaml>=5.1 in /home/jupyter-saeed3/.local/lib/python3.9/site-packages (from transformers) (6.0.1)\n",
      "Requirement already satisfied: regex!=2019.12.17 in /home/jupyter-saeed3/.local/lib/python3.9/site-packages (from transformers) (2024.4.16)\n",
      "Requirement already satisfied: requests in /opt/tljh/user/lib/python3.9/site-packages (from transformers) (2.31.0)\n",
      "Requirement already satisfied: tokenizers<0.20,>=0.19 in /home/jupyter-saeed3/.local/lib/python3.9/site-packages (from transformers) (0.19.1)\n",
      "Requirement already satisfied: safetensors>=0.4.1 in /home/jupyter-saeed3/.local/lib/python3.9/site-packages (from transformers) (0.4.3)\n",
      "Requirement already satisfied: tqdm>=4.27 in /opt/tljh/user/lib/python3.9/site-packages (from transformers) (4.66.2)\n",
      "Requirement already satisfied: typing-extensions in /home/jupyter-saeed3/.local/lib/python3.9/site-packages (from torch) (4.11.0)\n",
      "Requirement already satisfied: fsspec>=2023.5.0 in /home/jupyter-saeed3/.local/lib/python3.9/site-packages (from huggingface-hub<1.0,>=0.19.3->transformers) (2024.3.1)\n",
      "Requirement already satisfied: charset-normalizer<4,>=2 in /opt/tljh/user/lib/python3.9/site-packages (from requests->transformers) (3.3.2)\n",
      "Requirement already satisfied: idna<4,>=2.5 in /opt/tljh/user/lib/python3.9/site-packages (from requests->transformers) (3.6)\n",
      "Requirement already satisfied: urllib3<3,>=1.21.1 in /opt/tljh/user/lib/python3.9/site-packages (from requests->transformers) (2.2.1)\n",
      "Requirement already satisfied: certifi>=2017.4.17 in /opt/tljh/user/lib/python3.9/site-packages (from requests->transformers) (2024.2.2)\n",
      "\n",
      "\u001b[1m[\u001b[0m\u001b[34;49mnotice\u001b[0m\u001b[1;39;49m]\u001b[0m\u001b[39;49m A new release of pip is available: \u001b[0m\u001b[31;49m24.0\u001b[0m\u001b[39;49m -> \u001b[0m\u001b[32;49m24.3.1\u001b[0m\n",
      "\u001b[1m[\u001b[0m\u001b[34;49mnotice\u001b[0m\u001b[1;39;49m]\u001b[0m\u001b[39;49m To update, run: \u001b[0m\u001b[32;49mpip install --upgrade pip\u001b[0m\n"
     ]
    }
   ],
   "source": [
    "! pip install transformers scipy torch\n"
   ]
  },
  {
   "cell_type": "code",
   "execution_count": 61,
   "id": "ead6514e-f7f3-4952-b731-d7fba85023b7",
   "metadata": {},
   "outputs": [],
   "source": [
    "# prompt1 = \"What should be the prompt for the code snippet that prints \\\"So far we talked about big data. What about structured big data?\\\" and creates a SQLContext object?\"\n",
    "# prompt2 = \"Generate a code snippet in Python that demonstrates the use of PySpark to create an SQLContext and print a message about structured big data.\"\n",
    "\n",
    "# prompt1 = \"Write a Python script that imports necessary libraries for data processing and analysis, including time, numpy, operator, pyspark, and json.\"\n",
    "# prompt2 = \"Generate a Python code snippet that includes the following imports: `time`, `numpy`, `operator`, `SQLContext`, `Row`, `types` from `pyspark.sql`, `functions` from `pyspark.sql`, and `SparkContext`, as well as `json`.\"\n",
    "\n",
    "prompt1 = \"What is the time taken to filter out elements in a file RDD that have a length less than 2 and collect the results?\"\n",
    "prompt2 = \"Generate a Python code snippet that filters an RDD based on the length of its elements, measures the time taken for the operation, and prints the filtered results along with the time taken.\"\n",
    "\n",
    "\n"
   ]
  },
  {
   "cell_type": "code",
   "execution_count": 62,
   "id": "43ece60b-d0d1-41da-bf8d-6e237f7bf99c",
   "metadata": {},
   "outputs": [
    {
     "name": "stdout",
     "output_type": "stream",
     "text": [
      "Semantic Similarity: 0.74\n"
     ]
    }
   ],
   "source": [
    "from transformers import AutoTokenizer, AutoModel\n",
    "from scipy.spatial.distance import cosine\n",
    "import torch\n",
    "\n",
    "# Load the tokenizer and model for Sentence-BERT\n",
    "model_name = \"sentence-transformers/all-MiniLM-L6-v2\"\n",
    "tokenizer = AutoTokenizer.from_pretrained(model_name)\n",
    "model = AutoModel.from_pretrained(model_name)\n",
    "\n",
    "# Function to get embeddings from Sentence-BERT and ensure they are 1-D\n",
    "def get_embedding(text):\n",
    "    inputs = tokenizer(text, return_tensors=\"pt\", padding=True, truncation=True)\n",
    "    outputs = model(**inputs)\n",
    "    # Get mean across token embeddings and flatten to ensure 1-D vector\n",
    "    return outputs.last_hidden_state.mean(dim=1).squeeze().detach().numpy()\n",
    "\n",
    "# Prompts to compare\n",
    "# prompt1 = \"Write a Python script that imports necessary libraries for data processing and analysis, including time, numpy, operator, pyspark, and json.\"\n",
    "# prompt2 = \"Generate a Python code snippet that includes the following imports: `time`, `numpy`, `operator`, `SQLContext`, `Row`, `types` from `pyspark.sql`, `functions` from `pyspark.sql`, and `SparkContext`, as well as `json`.\"\n",
    "\n",
    "# Get embeddings\n",
    "embedding1 = get_embedding(prompt1)\n",
    "embedding2 = get_embedding(prompt2)\n",
    "\n",
    "# Calculate cosine similarity\n",
    "similarity = 1 - cosine(embedding1, embedding2)\n",
    "print(f\"Semantic Similarity: {similarity:.2f}\")\n"
   ]
  },
  {
   "cell_type": "code",
   "execution_count": null,
   "id": "51d5d6d4-c544-4e3f-bc43-d586a87c6c63",
   "metadata": {},
   "outputs": [],
   "source": []
  },
  {
   "cell_type": "code",
   "execution_count": null,
   "id": "e478145c-df7d-46d0-b515-9b90d24d77b0",
   "metadata": {},
   "outputs": [],
   "source": []
  },
  {
   "cell_type": "code",
   "execution_count": 83,
   "id": "9b501c5f-4b07-4763-8d7f-c4b9a4e19f4f",
   "metadata": {},
   "outputs": [],
   "source": [
    "kgtorrent_path = \"/storage/saeed/nb_data_kgtorrent/draft/\"\n"
   ]
  },
  {
   "cell_type": "code",
   "execution_count": 86,
   "id": "9e7957bd-8d72-48a1-9e8b-0c99bc4144ba",
   "metadata": {
    "scrolled": true,
    "tags": []
   },
   "outputs": [
    {
     "ename": "PermissionError",
     "evalue": "[Errno 13] Permission denied: '/storage/saeed/nb_data_kgtorrent/draft/kerneler_starter-savenew2-366176d6-f.csv'",
     "output_type": "error",
     "traceback": [
      "\u001b[0;31m---------------------------------------------------------------------------\u001b[0m",
      "\u001b[0;31mPermissionError\u001b[0m                           Traceback (most recent call last)",
      "Cell \u001b[0;32mIn[86], line 33\u001b[0m\n\u001b[1;32m     31\u001b[0m \u001b[38;5;66;03m# Write to CSV\u001b[39;00m\n\u001b[1;32m     32\u001b[0m csv_path \u001b[38;5;241m=\u001b[39m kgtorrent_path\u001b[38;5;241m+\u001b[39moutput_filename\n\u001b[0;32m---> 33\u001b[0m \u001b[43mdf\u001b[49m\u001b[38;5;241;43m.\u001b[39;49m\u001b[43mto_csv\u001b[49m\u001b[43m(\u001b[49m\u001b[43mcsv_path\u001b[49m\u001b[43m,\u001b[49m\u001b[43m \u001b[49m\u001b[43mindex\u001b[49m\u001b[38;5;241;43m=\u001b[39;49m\u001b[38;5;28;43;01mFalse\u001b[39;49;00m\u001b[43m)\u001b[49m\n\u001b[1;32m     35\u001b[0m \u001b[38;5;28mprint\u001b[39m(\u001b[38;5;124mf\u001b[39m\u001b[38;5;124m\"\u001b[39m\u001b[38;5;124mNotebook content has been written to \u001b[39m\u001b[38;5;132;01m{\u001b[39;00mcsv_path\u001b[38;5;132;01m}\u001b[39;00m\u001b[38;5;124m\"\u001b[39m)\n",
      "File \u001b[0;32m~/.local/lib/python3.9/site-packages/pandas/util/_decorators.py:333\u001b[0m, in \u001b[0;36mdeprecate_nonkeyword_arguments.<locals>.decorate.<locals>.wrapper\u001b[0;34m(*args, **kwargs)\u001b[0m\n\u001b[1;32m    327\u001b[0m \u001b[38;5;28;01mif\u001b[39;00m \u001b[38;5;28mlen\u001b[39m(args) \u001b[38;5;241m>\u001b[39m num_allow_args:\n\u001b[1;32m    328\u001b[0m     warnings\u001b[38;5;241m.\u001b[39mwarn(\n\u001b[1;32m    329\u001b[0m         msg\u001b[38;5;241m.\u001b[39mformat(arguments\u001b[38;5;241m=\u001b[39m_format_argument_list(allow_args)),\n\u001b[1;32m    330\u001b[0m         \u001b[38;5;167;01mFutureWarning\u001b[39;00m,\n\u001b[1;32m    331\u001b[0m         stacklevel\u001b[38;5;241m=\u001b[39mfind_stack_level(),\n\u001b[1;32m    332\u001b[0m     )\n\u001b[0;32m--> 333\u001b[0m \u001b[38;5;28;01mreturn\u001b[39;00m \u001b[43mfunc\u001b[49m\u001b[43m(\u001b[49m\u001b[38;5;241;43m*\u001b[39;49m\u001b[43margs\u001b[49m\u001b[43m,\u001b[49m\u001b[43m \u001b[49m\u001b[38;5;241;43m*\u001b[39;49m\u001b[38;5;241;43m*\u001b[39;49m\u001b[43mkwargs\u001b[49m\u001b[43m)\u001b[49m\n",
      "File \u001b[0;32m~/.local/lib/python3.9/site-packages/pandas/core/generic.py:3967\u001b[0m, in \u001b[0;36mNDFrame.to_csv\u001b[0;34m(self, path_or_buf, sep, na_rep, float_format, columns, header, index, index_label, mode, encoding, compression, quoting, quotechar, lineterminator, chunksize, date_format, doublequote, escapechar, decimal, errors, storage_options)\u001b[0m\n\u001b[1;32m   3956\u001b[0m df \u001b[38;5;241m=\u001b[39m \u001b[38;5;28mself\u001b[39m \u001b[38;5;28;01mif\u001b[39;00m \u001b[38;5;28misinstance\u001b[39m(\u001b[38;5;28mself\u001b[39m, ABCDataFrame) \u001b[38;5;28;01melse\u001b[39;00m \u001b[38;5;28mself\u001b[39m\u001b[38;5;241m.\u001b[39mto_frame()\n\u001b[1;32m   3958\u001b[0m formatter \u001b[38;5;241m=\u001b[39m DataFrameFormatter(\n\u001b[1;32m   3959\u001b[0m     frame\u001b[38;5;241m=\u001b[39mdf,\n\u001b[1;32m   3960\u001b[0m     header\u001b[38;5;241m=\u001b[39mheader,\n\u001b[0;32m   (...)\u001b[0m\n\u001b[1;32m   3964\u001b[0m     decimal\u001b[38;5;241m=\u001b[39mdecimal,\n\u001b[1;32m   3965\u001b[0m )\n\u001b[0;32m-> 3967\u001b[0m \u001b[38;5;28;01mreturn\u001b[39;00m \u001b[43mDataFrameRenderer\u001b[49m\u001b[43m(\u001b[49m\u001b[43mformatter\u001b[49m\u001b[43m)\u001b[49m\u001b[38;5;241;43m.\u001b[39;49m\u001b[43mto_csv\u001b[49m\u001b[43m(\u001b[49m\n\u001b[1;32m   3968\u001b[0m \u001b[43m    \u001b[49m\u001b[43mpath_or_buf\u001b[49m\u001b[43m,\u001b[49m\n\u001b[1;32m   3969\u001b[0m \u001b[43m    \u001b[49m\u001b[43mlineterminator\u001b[49m\u001b[38;5;241;43m=\u001b[39;49m\u001b[43mlineterminator\u001b[49m\u001b[43m,\u001b[49m\n\u001b[1;32m   3970\u001b[0m \u001b[43m    \u001b[49m\u001b[43msep\u001b[49m\u001b[38;5;241;43m=\u001b[39;49m\u001b[43msep\u001b[49m\u001b[43m,\u001b[49m\n\u001b[1;32m   3971\u001b[0m \u001b[43m    \u001b[49m\u001b[43mencoding\u001b[49m\u001b[38;5;241;43m=\u001b[39;49m\u001b[43mencoding\u001b[49m\u001b[43m,\u001b[49m\n\u001b[1;32m   3972\u001b[0m \u001b[43m    \u001b[49m\u001b[43merrors\u001b[49m\u001b[38;5;241;43m=\u001b[39;49m\u001b[43merrors\u001b[49m\u001b[43m,\u001b[49m\n\u001b[1;32m   3973\u001b[0m \u001b[43m    \u001b[49m\u001b[43mcompression\u001b[49m\u001b[38;5;241;43m=\u001b[39;49m\u001b[43mcompression\u001b[49m\u001b[43m,\u001b[49m\n\u001b[1;32m   3974\u001b[0m \u001b[43m    \u001b[49m\u001b[43mquoting\u001b[49m\u001b[38;5;241;43m=\u001b[39;49m\u001b[43mquoting\u001b[49m\u001b[43m,\u001b[49m\n\u001b[1;32m   3975\u001b[0m \u001b[43m    \u001b[49m\u001b[43mcolumns\u001b[49m\u001b[38;5;241;43m=\u001b[39;49m\u001b[43mcolumns\u001b[49m\u001b[43m,\u001b[49m\n\u001b[1;32m   3976\u001b[0m \u001b[43m    \u001b[49m\u001b[43mindex_label\u001b[49m\u001b[38;5;241;43m=\u001b[39;49m\u001b[43mindex_label\u001b[49m\u001b[43m,\u001b[49m\n\u001b[1;32m   3977\u001b[0m \u001b[43m    \u001b[49m\u001b[43mmode\u001b[49m\u001b[38;5;241;43m=\u001b[39;49m\u001b[43mmode\u001b[49m\u001b[43m,\u001b[49m\n\u001b[1;32m   3978\u001b[0m \u001b[43m    \u001b[49m\u001b[43mchunksize\u001b[49m\u001b[38;5;241;43m=\u001b[39;49m\u001b[43mchunksize\u001b[49m\u001b[43m,\u001b[49m\n\u001b[1;32m   3979\u001b[0m \u001b[43m    \u001b[49m\u001b[43mquotechar\u001b[49m\u001b[38;5;241;43m=\u001b[39;49m\u001b[43mquotechar\u001b[49m\u001b[43m,\u001b[49m\n\u001b[1;32m   3980\u001b[0m \u001b[43m    \u001b[49m\u001b[43mdate_format\u001b[49m\u001b[38;5;241;43m=\u001b[39;49m\u001b[43mdate_format\u001b[49m\u001b[43m,\u001b[49m\n\u001b[1;32m   3981\u001b[0m \u001b[43m    \u001b[49m\u001b[43mdoublequote\u001b[49m\u001b[38;5;241;43m=\u001b[39;49m\u001b[43mdoublequote\u001b[49m\u001b[43m,\u001b[49m\n\u001b[1;32m   3982\u001b[0m \u001b[43m    \u001b[49m\u001b[43mescapechar\u001b[49m\u001b[38;5;241;43m=\u001b[39;49m\u001b[43mescapechar\u001b[49m\u001b[43m,\u001b[49m\n\u001b[1;32m   3983\u001b[0m \u001b[43m    \u001b[49m\u001b[43mstorage_options\u001b[49m\u001b[38;5;241;43m=\u001b[39;49m\u001b[43mstorage_options\u001b[49m\u001b[43m,\u001b[49m\n\u001b[1;32m   3984\u001b[0m \u001b[43m\u001b[49m\u001b[43m)\u001b[49m\n",
      "File \u001b[0;32m~/.local/lib/python3.9/site-packages/pandas/io/formats/format.py:1014\u001b[0m, in \u001b[0;36mDataFrameRenderer.to_csv\u001b[0;34m(self, path_or_buf, encoding, sep, columns, index_label, mode, compression, quoting, quotechar, lineterminator, chunksize, date_format, doublequote, escapechar, errors, storage_options)\u001b[0m\n\u001b[1;32m    993\u001b[0m     created_buffer \u001b[38;5;241m=\u001b[39m \u001b[38;5;28;01mFalse\u001b[39;00m\n\u001b[1;32m    995\u001b[0m csv_formatter \u001b[38;5;241m=\u001b[39m CSVFormatter(\n\u001b[1;32m    996\u001b[0m     path_or_buf\u001b[38;5;241m=\u001b[39mpath_or_buf,\n\u001b[1;32m    997\u001b[0m     lineterminator\u001b[38;5;241m=\u001b[39mlineterminator,\n\u001b[0;32m   (...)\u001b[0m\n\u001b[1;32m   1012\u001b[0m     formatter\u001b[38;5;241m=\u001b[39m\u001b[38;5;28mself\u001b[39m\u001b[38;5;241m.\u001b[39mfmt,\n\u001b[1;32m   1013\u001b[0m )\n\u001b[0;32m-> 1014\u001b[0m \u001b[43mcsv_formatter\u001b[49m\u001b[38;5;241;43m.\u001b[39;49m\u001b[43msave\u001b[49m\u001b[43m(\u001b[49m\u001b[43m)\u001b[49m\n\u001b[1;32m   1016\u001b[0m \u001b[38;5;28;01mif\u001b[39;00m created_buffer:\n\u001b[1;32m   1017\u001b[0m     \u001b[38;5;28;01massert\u001b[39;00m \u001b[38;5;28misinstance\u001b[39m(path_or_buf, StringIO)\n",
      "File \u001b[0;32m~/.local/lib/python3.9/site-packages/pandas/io/formats/csvs.py:251\u001b[0m, in \u001b[0;36mCSVFormatter.save\u001b[0;34m(self)\u001b[0m\n\u001b[1;32m    247\u001b[0m \u001b[38;5;250m\u001b[39m\u001b[38;5;124;03m\"\"\"\u001b[39;00m\n\u001b[1;32m    248\u001b[0m \u001b[38;5;124;03mCreate the writer & save.\u001b[39;00m\n\u001b[1;32m    249\u001b[0m \u001b[38;5;124;03m\"\"\"\u001b[39;00m\n\u001b[1;32m    250\u001b[0m \u001b[38;5;66;03m# apply compression and byte/text conversion\u001b[39;00m\n\u001b[0;32m--> 251\u001b[0m \u001b[38;5;28;01mwith\u001b[39;00m \u001b[43mget_handle\u001b[49m\u001b[43m(\u001b[49m\n\u001b[1;32m    252\u001b[0m \u001b[43m    \u001b[49m\u001b[38;5;28;43mself\u001b[39;49m\u001b[38;5;241;43m.\u001b[39;49m\u001b[43mfilepath_or_buffer\u001b[49m\u001b[43m,\u001b[49m\n\u001b[1;32m    253\u001b[0m \u001b[43m    \u001b[49m\u001b[38;5;28;43mself\u001b[39;49m\u001b[38;5;241;43m.\u001b[39;49m\u001b[43mmode\u001b[49m\u001b[43m,\u001b[49m\n\u001b[1;32m    254\u001b[0m \u001b[43m    \u001b[49m\u001b[43mencoding\u001b[49m\u001b[38;5;241;43m=\u001b[39;49m\u001b[38;5;28;43mself\u001b[39;49m\u001b[38;5;241;43m.\u001b[39;49m\u001b[43mencoding\u001b[49m\u001b[43m,\u001b[49m\n\u001b[1;32m    255\u001b[0m \u001b[43m    \u001b[49m\u001b[43merrors\u001b[49m\u001b[38;5;241;43m=\u001b[39;49m\u001b[38;5;28;43mself\u001b[39;49m\u001b[38;5;241;43m.\u001b[39;49m\u001b[43merrors\u001b[49m\u001b[43m,\u001b[49m\n\u001b[1;32m    256\u001b[0m \u001b[43m    \u001b[49m\u001b[43mcompression\u001b[49m\u001b[38;5;241;43m=\u001b[39;49m\u001b[38;5;28;43mself\u001b[39;49m\u001b[38;5;241;43m.\u001b[39;49m\u001b[43mcompression\u001b[49m\u001b[43m,\u001b[49m\n\u001b[1;32m    257\u001b[0m \u001b[43m    \u001b[49m\u001b[43mstorage_options\u001b[49m\u001b[38;5;241;43m=\u001b[39;49m\u001b[38;5;28;43mself\u001b[39;49m\u001b[38;5;241;43m.\u001b[39;49m\u001b[43mstorage_options\u001b[49m\u001b[43m,\u001b[49m\n\u001b[1;32m    258\u001b[0m \u001b[43m\u001b[49m\u001b[43m)\u001b[49m \u001b[38;5;28;01mas\u001b[39;00m handles:\n\u001b[1;32m    259\u001b[0m     \u001b[38;5;66;03m# Note: self.encoding is irrelevant here\u001b[39;00m\n\u001b[1;32m    260\u001b[0m     \u001b[38;5;28mself\u001b[39m\u001b[38;5;241m.\u001b[39mwriter \u001b[38;5;241m=\u001b[39m csvlib\u001b[38;5;241m.\u001b[39mwriter(\n\u001b[1;32m    261\u001b[0m         handles\u001b[38;5;241m.\u001b[39mhandle,\n\u001b[1;32m    262\u001b[0m         lineterminator\u001b[38;5;241m=\u001b[39m\u001b[38;5;28mself\u001b[39m\u001b[38;5;241m.\u001b[39mlineterminator,\n\u001b[0;32m   (...)\u001b[0m\n\u001b[1;32m    267\u001b[0m         quotechar\u001b[38;5;241m=\u001b[39m\u001b[38;5;28mself\u001b[39m\u001b[38;5;241m.\u001b[39mquotechar,\n\u001b[1;32m    268\u001b[0m     )\n\u001b[1;32m    270\u001b[0m     \u001b[38;5;28mself\u001b[39m\u001b[38;5;241m.\u001b[39m_save()\n",
      "File \u001b[0;32m~/.local/lib/python3.9/site-packages/pandas/io/common.py:873\u001b[0m, in \u001b[0;36mget_handle\u001b[0;34m(path_or_buf, mode, encoding, compression, memory_map, is_text, errors, storage_options)\u001b[0m\n\u001b[1;32m    868\u001b[0m \u001b[38;5;28;01melif\u001b[39;00m \u001b[38;5;28misinstance\u001b[39m(handle, \u001b[38;5;28mstr\u001b[39m):\n\u001b[1;32m    869\u001b[0m     \u001b[38;5;66;03m# Check whether the filename is to be opened in binary mode.\u001b[39;00m\n\u001b[1;32m    870\u001b[0m     \u001b[38;5;66;03m# Binary mode does not support 'encoding' and 'newline'.\u001b[39;00m\n\u001b[1;32m    871\u001b[0m     \u001b[38;5;28;01mif\u001b[39;00m ioargs\u001b[38;5;241m.\u001b[39mencoding \u001b[38;5;129;01mand\u001b[39;00m \u001b[38;5;124m\"\u001b[39m\u001b[38;5;124mb\u001b[39m\u001b[38;5;124m\"\u001b[39m \u001b[38;5;129;01mnot\u001b[39;00m \u001b[38;5;129;01min\u001b[39;00m ioargs\u001b[38;5;241m.\u001b[39mmode:\n\u001b[1;32m    872\u001b[0m         \u001b[38;5;66;03m# Encoding\u001b[39;00m\n\u001b[0;32m--> 873\u001b[0m         handle \u001b[38;5;241m=\u001b[39m \u001b[38;5;28;43mopen\u001b[39;49m\u001b[43m(\u001b[49m\n\u001b[1;32m    874\u001b[0m \u001b[43m            \u001b[49m\u001b[43mhandle\u001b[49m\u001b[43m,\u001b[49m\n\u001b[1;32m    875\u001b[0m \u001b[43m            \u001b[49m\u001b[43mioargs\u001b[49m\u001b[38;5;241;43m.\u001b[39;49m\u001b[43mmode\u001b[49m\u001b[43m,\u001b[49m\n\u001b[1;32m    876\u001b[0m \u001b[43m            \u001b[49m\u001b[43mencoding\u001b[49m\u001b[38;5;241;43m=\u001b[39;49m\u001b[43mioargs\u001b[49m\u001b[38;5;241;43m.\u001b[39;49m\u001b[43mencoding\u001b[49m\u001b[43m,\u001b[49m\n\u001b[1;32m    877\u001b[0m \u001b[43m            \u001b[49m\u001b[43merrors\u001b[49m\u001b[38;5;241;43m=\u001b[39;49m\u001b[43merrors\u001b[49m\u001b[43m,\u001b[49m\n\u001b[1;32m    878\u001b[0m \u001b[43m            \u001b[49m\u001b[43mnewline\u001b[49m\u001b[38;5;241;43m=\u001b[39;49m\u001b[38;5;124;43m\"\u001b[39;49m\u001b[38;5;124;43m\"\u001b[39;49m\u001b[43m,\u001b[49m\n\u001b[1;32m    879\u001b[0m \u001b[43m        \u001b[49m\u001b[43m)\u001b[49m\n\u001b[1;32m    880\u001b[0m     \u001b[38;5;28;01melse\u001b[39;00m:\n\u001b[1;32m    881\u001b[0m         \u001b[38;5;66;03m# Binary mode\u001b[39;00m\n\u001b[1;32m    882\u001b[0m         handle \u001b[38;5;241m=\u001b[39m \u001b[38;5;28mopen\u001b[39m(handle, ioargs\u001b[38;5;241m.\u001b[39mmode)\n",
      "\u001b[0;31mPermissionError\u001b[0m: [Errno 13] Permission denied: '/storage/saeed/nb_data_kgtorrent/draft/kerneler_starter-savenew2-366176d6-f.csv'"
     ]
    }
   ],
   "source": [
    "filename = \"kerneler_starter-savenew2-366176d6-f.ipynb\"\n",
    "output_filename = \"kerneler_starter-savenew2-366176d6-f.csv\"\n",
    "\n",
    "with open(kgtorrent_path+filename, 'r', encoding='utf-8') as f:\n",
    "    notebook = nbformat.read(f, as_version=4)\n",
    "\n",
    "# Extract cells and their information\n",
    "data = []\n",
    "for cell in notebook['cells']:\n",
    "    cell_type = cell['cell_type']\n",
    "    source = cell['source']\n",
    "    output = None\n",
    "\n",
    "    # Handle code cell outputs\n",
    "    if cell_type == 'code' and 'outputs' in cell:\n",
    "        output = '\\n'.join(\n",
    "            output['text'] if 'text' in output else str(output)\n",
    "            for output in cell['outputs']\n",
    "        )\n",
    "\n",
    "    # Append cell data to the list\n",
    "    data.append({\n",
    "        'Cell Type': cell_type,\n",
    "        'Source': source,\n",
    "        'Output': output\n",
    "    })\n",
    "\n",
    "# Convert to DataFrame\n",
    "df = pd.DataFrame(data)\n",
    "\n",
    "# Write to CSV\n",
    "csv_path = kgtorrent_path+output_filename\n",
    "df.to_csv(csv_path, index=False)\n",
    "\n",
    "print(f\"Notebook content has been written to {csv_path}\")"
   ]
  },
  {
   "cell_type": "code",
   "execution_count": null,
   "id": "8df8d71e-d2ba-49cc-8af7-ef33a12f840d",
   "metadata": {},
   "outputs": [],
   "source": []
  },
  {
   "cell_type": "code",
   "execution_count": null,
   "id": "0f97f710-748b-4b18-b135-302727481e3d",
   "metadata": {},
   "outputs": [],
   "source": []
  },
  {
   "cell_type": "code",
   "execution_count": null,
   "id": "5e8944e2-19c1-4824-8338-1541add8b1ab",
   "metadata": {},
   "outputs": [],
   "source": []
  },
  {
   "cell_type": "code",
   "execution_count": null,
   "id": "7a4eb868-c6da-47ea-8906-57a9edfba57c",
   "metadata": {},
   "outputs": [],
   "source": []
  },
  {
   "cell_type": "code",
   "execution_count": null,
   "id": "84122554-0700-40da-8e80-69653225cbc6",
   "metadata": {},
   "outputs": [],
   "source": []
  },
  {
   "cell_type": "code",
   "execution_count": 46,
   "id": "fced4088-cdab-4b9e-90d6-147792a6425c",
   "metadata": {},
   "outputs": [
    {
     "name": "stdout",
     "output_type": "stream",
     "text": [
      "Defaulting to user installation because normal site-packages is not writeable\n",
      "Collecting rouge_score\n",
      "  Downloading rouge_score-0.1.2.tar.gz (17 kB)\n",
      "  Preparing metadata (setup.py) ... \u001b[?25ldone\n",
      "\u001b[?25hRequirement already satisfied: absl-py in /home/jupyter-saeed3/.local/lib/python3.9/site-packages (from rouge_score) (2.1.0)\n",
      "Requirement already satisfied: nltk in /home/jupyter-saeed3/.local/lib/python3.9/site-packages (from rouge_score) (3.8.1)\n",
      "Requirement already satisfied: numpy in /home/jupyter-saeed3/.local/lib/python3.9/site-packages (from rouge_score) (1.26.4)\n",
      "Requirement already satisfied: six>=1.14.0 in /opt/tljh/user/lib/python3.9/site-packages (from rouge_score) (1.16.0)\n",
      "Requirement already satisfied: click in /home/jupyter-saeed3/.local/lib/python3.9/site-packages (from nltk->rouge_score) (8.1.7)\n",
      "Requirement already satisfied: joblib in /home/jupyter-saeed3/.local/lib/python3.9/site-packages (from nltk->rouge_score) (1.4.0)\n",
      "Requirement already satisfied: regex>=2021.8.3 in /home/jupyter-saeed3/.local/lib/python3.9/site-packages (from nltk->rouge_score) (2024.4.16)\n",
      "Requirement already satisfied: tqdm in /opt/tljh/user/lib/python3.9/site-packages (from nltk->rouge_score) (4.66.2)\n",
      "Building wheels for collected packages: rouge_score\n",
      "  Building wheel for rouge_score (setup.py) ... \u001b[?25ldone\n",
      "\u001b[?25h  Created wheel for rouge_score: filename=rouge_score-0.1.2-py3-none-any.whl size=24934 sha256=f486910ec29c16dad8a339247d0212337ee2331b1f1675bb3264392d6608cad6\n",
      "  Stored in directory: /home/jupyter-saeed3/.cache/pip/wheels/9b/3d/39/09558097d3119ca0a4d462df68f22c6f3c1b345ac63a09b86e\n",
      "Successfully built rouge_score\n",
      "Installing collected packages: rouge_score\n",
      "Successfully installed rouge_score-0.1.2\n",
      "\n",
      "\u001b[1m[\u001b[0m\u001b[34;49mnotice\u001b[0m\u001b[1;39;49m]\u001b[0m\u001b[39;49m A new release of pip is available: \u001b[0m\u001b[31;49m24.0\u001b[0m\u001b[39;49m -> \u001b[0m\u001b[32;49m24.3.1\u001b[0m\n",
      "\u001b[1m[\u001b[0m\u001b[34;49mnotice\u001b[0m\u001b[1;39;49m]\u001b[0m\u001b[39;49m To update, run: \u001b[0m\u001b[32;49mpip install --upgrade pip\u001b[0m\n"
     ]
    }
   ],
   "source": [
    "!pip install rouge_score"
   ]
  },
  {
   "cell_type": "code",
   "execution_count": 48,
   "id": "9af47375-e3e7-438f-a49d-a2e6ded01273",
   "metadata": {},
   "outputs": [
    {
     "name": "stdout",
     "output_type": "stream",
     "text": [
      "ROUGE-L Score: 0.0\n"
     ]
    }
   ],
   "source": [
    "from rouge_score import rouge_scorer\n",
    "\n",
    "# Initialize ROUGE scorer\n",
    "scorer = rouge_scorer.RougeScorer(['rougeL'], use_stemmer=True)\n",
    "\n",
    "# Define the explanations from two LLMs\n",
    "explanation_1 = \"What is the time taken to map elements in an RDD and calculate the time difference between starting and ending the operation?.\"\n",
    "explanation_2 = \"Generate a code snippet in Python that measures the time taken to map an RDD by multiplying each element by 2, and prints the time taken in seconds.\"\n",
    "\n",
    "# Compute ROUGE-L score\n",
    "score = scorer.score(explanation_1[0], explanation_2[0])\n",
    "\n",
    "print(\"ROUGE-L Score:\", score['rougeL'].fmeasure)\n"
   ]
  },
  {
   "cell_type": "code",
   "execution_count": null,
   "id": "802dde48-a96c-4885-ba80-5670d2f486e8",
   "metadata": {},
   "outputs": [],
   "source": []
  },
  {
   "cell_type": "code",
   "execution_count": 28,
   "id": "d68c2ff9-88f6-4b65-bef9-02415d7d8875",
   "metadata": {},
   "outputs": [],
   "source": [
    "def read_all_cells_for_fail_check(notebook_path):\n",
    "    with open(notebook_path, 'r', encoding='utf-8') as f:\n",
    "        notebook = json.load(f)\n",
    "    \n",
    "    print(notebook)\n",
    "    nb_cells = []\n",
    "\n",
    "    for i, cell in enumerate(notebook['worksheets']['cells']):\n",
    "            # Combine the source lines into a single string for each code cell\n",
    "            code = ''.join(cell['source'])\n",
    "            # print (code)\n",
    "            # Store the cell number and code as a tuple\n",
    "            nb_cells.append((i+1, code, cell['cell_type']))  # i+1 to make the cell number 1-based\n",
    "            \n",
    "    return nb_cells"
   ]
  },
  {
   "cell_type": "code",
   "execution_count": 25,
   "id": "ff42c6a6-ec4e-4a0e-9d40-93dd4b451df5",
   "metadata": {
    "scrolled": true,
    "tags": []
   },
   "outputs": [
    {
     "name": "stdout",
     "output_type": "stream",
     "text": [
      "{'cells': [{'cell_type': 'markdown', 'metadata': {}, 'source': ['### Target\\n', '\\n', '![](http://r-statistics.co/screenshots/ggplot_masterlist_8_1.png)']}, {'cell_type': 'code', 'execution_count': 1, 'metadata': {'collapsed': True}, 'outputs': [], 'source': ['import pandas as pd\\n', 'mpg= pd.read_csv(\"http://goo.gl/uEeRGu\") ']}, {'cell_type': 'code', 'execution_count': 10, 'metadata': {}, 'outputs': [{'data': {'text/html': ['<div class=\"vega-embed\" id=\"88dbf520-9c34-4cf2-b36b-268cfb47b1b0\"></div>\\n', '\\n', '<style>\\n', '.vega-embed svg, .vega-embed canvas {\\n', '  border: 1px dotted gray;\\n', '}\\n', '\\n', '.vega-embed .vega-actions a {\\n', '  margin-right: 6px;\\n', '}\\n', '</style>\\n']}, 'metadata': {'jupyter-vega': '#88dbf520-9c34-4cf2-b36b-268cfb47b1b0'}, 'output_type': 'display_data'}, {'data': {'application/javascript': ['var spec = {\"data\": {\"values\": [{\"displ\": 1.8, \"hwy\": 29, \"cty\": 18, \"drv\": \"f\", \"year\": 1999, \"model\": \"a4\", \"trans\": \"auto(l5)\", \"fl\": \"p\", \"class\": \"compact\", \"manufacturer\": \"audi\", \"cyl\": 4}, {\"displ\": 1.8, \"hwy\": 29, \"cty\": 21, \"drv\": \"f\", \"year\": 1999, \"model\": \"a4\", \"trans\": \"manual(m5)\", \"fl\": \"p\", \"class\": \"compact\", \"manufacturer\": \"audi\", \"cyl\": 4}, {\"displ\": 2.0, \"hwy\": 31, \"cty\": 20, \"drv\": \"f\", \"year\": 2008, \"model\": \"a4\", \"trans\": \"manual(m6)\", \"fl\": \"p\", \"class\": \"compact\", \"manufacturer\": \"audi\", \"cyl\": 4}, {\"displ\": 2.0, \"hwy\": 30, \"cty\": 21, \"drv\": \"f\", \"year\": 2008, \"model\": \"a4\", \"trans\": \"auto(av)\", \"fl\": \"p\", \"class\": \"compact\", \"manufacturer\": \"audi\", \"cyl\": 4}, {\"displ\": 2.8, \"hwy\": 26, \"cty\": 16, \"drv\": \"f\", \"year\": 1999, \"model\": \"a4\", \"trans\": \"auto(l5)\", \"fl\": \"p\", \"class\": \"compact\", \"manufacturer\": \"audi\", \"cyl\": 6}, {\"displ\": 2.8, \"hwy\": 26, \"cty\": 18, \"drv\": \"f\", \"year\": 1999, \"model\": \"a4\", \"trans\": \"manual(m5)\", \"fl\": \"p\", \"class\": \"compact\", \"manufacturer\": \"audi\", \"cyl\": 6}, {\"displ\": 3.1, \"hwy\": 27, \"cty\": 18, \"drv\": \"f\", \"year\": 2008, \"model\": \"a4\", \"trans\": \"auto(av)\", \"fl\": \"p\", \"class\": \"compact\", \"manufacturer\": \"audi\", \"cyl\": 6}, {\"displ\": 1.8, \"hwy\": 26, \"cty\": 18, \"drv\": \"4\", \"year\": 1999, \"model\": \"a4 quattro\", \"trans\": \"manual(m5)\", \"fl\": \"p\", \"class\": \"compact\", \"manufacturer\": \"audi\", \"cyl\": 4}, {\"displ\": 1.8, \"hwy\": 25, \"cty\": 16, \"drv\": \"4\", \"year\": 1999, \"model\": \"a4 quattro\", \"trans\": \"auto(l5)\", \"fl\": \"p\", \"class\": \"compact\", \"manufacturer\": \"audi\", \"cyl\": 4}, {\"displ\": 2.0, \"hwy\": 28, \"cty\": 20, \"drv\": \"4\", \"year\": 2008, \"model\": \"a4 quattro\", \"trans\": \"manual(m6)\", \"fl\": \"p\", \"class\": \"compact\", \"manufacturer\": \"audi\", \"cyl\": 4}, {\"displ\": 2.0, \"hwy\": 27, \"cty\": 19, \"drv\": \"4\", \"year\": 2008, \"model\": \"a4 quattro\", \"trans\": \"auto(s6)\", \"fl\": \"p\", \"class\": \"compact\", \"manufacturer\": \"audi\", \"cyl\": 4}, {\"displ\": 2.8, \"hwy\": 25, \"cty\": 15, \"drv\": \"4\", \"year\": 1999, \"model\": \"a4 quattro\", \"trans\": \"auto(l5)\", \"fl\": \"p\", \"class\": \"compact\", \"manufacturer\": \"audi\", \"cyl\": 6}, {\"displ\": 2.8, \"hwy\": 25, \"cty\": 17, \"drv\": \"4\", \"year\": 1999, \"model\": \"a4 quattro\", \"trans\": \"manual(m5)\", \"fl\": \"p\", \"class\": \"compact\", \"manufacturer\": \"audi\", \"cyl\": 6}, {\"displ\": 3.1, \"hwy\": 25, \"cty\": 17, \"drv\": \"4\", \"year\": 2008, \"model\": \"a4 quattro\", \"trans\": \"auto(s6)\", \"fl\": \"p\", \"class\": \"compact\", \"manufacturer\": \"audi\", \"cyl\": 6}, {\"displ\": 3.1, \"hwy\": 25, \"cty\": 15, \"drv\": \"4\", \"year\": 2008, \"model\": \"a4 quattro\", \"trans\": \"manual(m6)\", \"fl\": \"p\", \"class\": \"compact\", \"manufacturer\": \"audi\", \"cyl\": 6}, {\"displ\": 2.8, \"hwy\": 24, \"cty\": 15, \"drv\": \"4\", \"year\": 1999, \"model\": \"a6 quattro\", \"trans\": \"auto(l5)\", \"fl\": \"p\", \"class\": \"midsize\", \"manufacturer\": \"audi\", \"cyl\": 6}, {\"displ\": 3.1, \"hwy\": 25, \"cty\": 17, \"drv\": \"4\", \"year\": 2008, \"model\": \"a6 quattro\", \"trans\": \"auto(s6)\", \"fl\": \"p\", \"class\": \"midsize\", \"manufacturer\": \"audi\", \"cyl\": 6}, {\"displ\": 4.2, \"hwy\": 23, \"cty\": 16, \"drv\": \"4\", \"year\": 2008, \"model\": \"a6 quattro\", \"trans\": \"auto(s6)\", \"fl\": \"p\", \"class\": \"midsize\", \"manufacturer\": \"audi\", \"cyl\": 8}, {\"displ\": 5.3, \"hwy\": 20, \"cty\": 14, \"drv\": \"r\", \"year\": 2008, \"model\": \"c1500 suburban 2wd\", \"trans\": \"auto(l4)\", \"fl\": \"r\", \"class\": \"suv\", \"manufacturer\": \"chevrolet\", \"cyl\": 8}, {\"displ\": 5.3, \"hwy\": 15, \"cty\": 11, \"drv\": \"r\", \"year\": 2008, \"model\": \"c1500 suburban 2wd\", \"trans\": \"auto(l4)\", \"fl\": \"e\", \"class\": \"suv\", \"manufacturer\": \"chevrolet\", \"cyl\": 8}, {\"displ\": 5.3, \"hwy\": 20, \"cty\": 14, \"drv\": \"r\", \"year\": 2008, \"model\": \"c1500 suburban 2wd\", \"trans\": \"auto(l4)\", \"fl\": \"r\", \"class\": \"suv\", \"manufacturer\": \"chevrolet\", \"cyl\": 8}, {\"displ\": 5.7, \"hwy\": 17, \"cty\": 13, \"drv\": \"r\", \"year\": 1999, \"model\": \"c1500 suburban 2wd\", \"trans\": \"auto(l4)\", \"fl\": \"r\", \"class\": \"suv\", \"manufacturer\": \"chevrolet\", \"cyl\": 8}, {\"displ\": 6.0, \"hwy\": 17, \"cty\": 12, \"drv\": \"r\", \"year\": 2008, \"model\": \"c1500 suburban 2wd\", \"trans\": \"auto(l4)\", \"fl\": \"r\", \"class\": \"suv\", \"manufacturer\": \"chevrolet\", \"cyl\": 8}, {\"displ\": 5.7, \"hwy\": 26, \"cty\": 16, \"drv\": \"r\", \"year\": 1999, \"model\": \"corvette\", \"trans\": \"manual(m6)\", \"fl\": \"p\", \"class\": \"2seater\", \"manufacturer\": \"chevrolet\", \"cyl\": 8}, {\"displ\": 5.7, \"hwy\": 23, \"cty\": 15, \"drv\": \"r\", \"year\": 1999, \"model\": \"corvette\", \"trans\": \"auto(l4)\", \"fl\": \"p\", \"class\": \"2seater\", \"manufacturer\": \"chevrolet\", \"cyl\": 8}, {\"displ\": 6.2, \"hwy\": 26, \"cty\": 16, \"drv\": \"r\", \"year\": 2008, \"model\": \"corvette\", \"trans\": \"manual(m6)\", \"fl\": \"p\", \"class\": \"2seater\", \"manufacturer\": \"chevrolet\", \"cyl\": 8}, {\"displ\": 6.2, \"hwy\": 25, \"cty\": 15, \"drv\": \"r\", \"year\": 2008, \"model\": \"corvette\", \"trans\": \"auto(s6)\", \"fl\": \"p\", \"class\": \"2seater\", \"manufacturer\": \"chevrolet\", \"cyl\": 8}, {\"displ\": 7.0, \"hwy\": 24, \"cty\": 15, \"drv\": \"r\", \"year\": 2008, \"model\": \"corvette\", \"trans\": \"manual(m6)\", \"fl\": \"p\", \"class\": \"2seater\", \"manufacturer\": \"chevrolet\", \"cyl\": 8}, {\"displ\": 5.3, \"hwy\": 19, \"cty\": 14, \"drv\": \"4\", \"year\": 2008, \"model\": \"k1500 tahoe 4wd\", \"trans\": \"auto(l4)\", \"fl\": \"r\", \"class\": \"suv\", \"manufacturer\": \"chevrolet\", \"cyl\": 8}, {\"displ\": 5.3, \"hwy\": 14, \"cty\": 11, \"drv\": \"4\", \"year\": 2008, \"model\": \"k1500 tahoe 4wd\", \"trans\": \"auto(l4)\", \"fl\": \"e\", \"class\": \"suv\", \"manufacturer\": \"chevrolet\", \"cyl\": 8}, {\"displ\": 5.7, \"hwy\": 15, \"cty\": 11, \"drv\": \"4\", \"year\": 1999, \"model\": \"k1500 tahoe 4wd\", \"trans\": \"auto(l4)\", \"fl\": \"r\", \"class\": \"suv\", \"manufacturer\": \"chevrolet\", \"cyl\": 8}, {\"displ\": 6.5, \"hwy\": 17, \"cty\": 14, \"drv\": \"4\", \"year\": 1999, \"model\": \"k1500 tahoe 4wd\", \"trans\": \"auto(l4)\", \"fl\": \"d\", \"class\": \"suv\", \"manufacturer\": \"chevrolet\", \"cyl\": 8}, {\"displ\": 2.4, \"hwy\": 27, \"cty\": 19, \"drv\": \"f\", \"year\": 1999, \"model\": \"malibu\", \"trans\": \"auto(l4)\", \"fl\": \"r\", \"class\": \"midsize\", \"manufacturer\": \"chevrolet\", \"cyl\": 4}, {\"displ\": 2.4, \"hwy\": 30, \"cty\": 22, \"drv\": \"f\", \"year\": 2008, \"model\": \"malibu\", \"trans\": \"auto(l4)\", \"fl\": \"r\", \"class\": \"midsize\", \"manufacturer\": \"chevrolet\", \"cyl\": 4}, {\"displ\": 3.1, \"hwy\": 26, \"cty\": 18, \"drv\": \"f\", \"year\": 1999, \"model\": \"malibu\", \"trans\": \"auto(l4)\", \"fl\": \"r\", \"class\": \"midsize\", \"manufacturer\": \"chevrolet\", \"cyl\": 6}, {\"displ\": 3.5, \"hwy\": 29, \"cty\": 18, \"drv\": \"f\", \"year\": 2008, \"model\": \"malibu\", \"trans\": \"auto(l4)\", \"fl\": \"r\", \"class\": \"midsize\", \"manufacturer\": \"chevrolet\", \"cyl\": 6}, {\"displ\": 3.6, \"hwy\": 26, \"cty\": 17, \"drv\": \"f\", \"year\": 2008, \"model\": \"malibu\", \"trans\": \"auto(s6)\", \"fl\": \"r\", \"class\": \"midsize\", \"manufacturer\": \"chevrolet\", \"cyl\": 6}, {\"displ\": 2.4, \"hwy\": 24, \"cty\": 18, \"drv\": \"f\", \"year\": 1999, \"model\": \"caravan 2wd\", \"trans\": \"auto(l3)\", \"fl\": \"r\", \"class\": \"minivan\", \"manufacturer\": \"dodge\", \"cyl\": 4}, {\"displ\": 3.0, \"hwy\": 24, \"cty\": 17, \"drv\": \"f\", \"year\": 1999, \"model\": \"caravan 2wd\", \"trans\": \"auto(l4)\", \"fl\": \"r\", \"class\": \"minivan\", \"manufacturer\": \"dodge\", \"cyl\": 6}, {\"displ\": 3.3, \"hwy\": 22, \"cty\": 16, \"drv\": \"f\", \"year\": 1999, \"model\": \"caravan 2wd\", \"trans\": \"auto(l4)\", \"fl\": \"r\", \"class\": \"minivan\", \"manufacturer\": \"dodge\", \"cyl\": 6}, {\"displ\": 3.3, \"hwy\": 22, \"cty\": 16, \"drv\": \"f\", \"year\": 1999, \"model\": \"caravan 2wd\", \"trans\": \"auto(l4)\", \"fl\": \"r\", \"class\": \"minivan\", \"manufacturer\": \"dodge\", \"cyl\": 6}, {\"displ\": 3.3, \"hwy\": 24, \"cty\": 17, \"drv\": \"f\", \"year\": 2008, \"model\": \"caravan 2wd\", \"trans\": \"auto(l4)\", \"fl\": \"r\", \"class\": \"minivan\", \"manufacturer\": \"dodge\", \"cyl\": 6}, {\"displ\": 3.3, \"hwy\": 24, \"cty\": 17, \"drv\": \"f\", \"year\": 2008, \"model\": \"caravan 2wd\", \"trans\": \"auto(l4)\", \"fl\": \"r\", \"class\": \"minivan\", \"manufacturer\": \"dodge\", \"cyl\": 6}, {\"displ\": 3.3, \"hwy\": 17, \"cty\": 11, \"drv\": \"f\", \"year\": 2008, \"model\": \"caravan 2wd\", \"trans\": \"auto(l4)\", \"fl\": \"e\", \"class\": \"minivan\", \"manufacturer\": \"dodge\", \"cyl\": 6}, {\"displ\": 3.8, \"hwy\": 22, \"cty\": 15, \"drv\": \"f\", \"year\": 1999, \"model\": \"caravan 2wd\", \"trans\": \"auto(l4)\", \"fl\": \"r\", \"class\": \"minivan\", \"manufacturer\": \"dodge\", \"cyl\": 6}, {\"displ\": 3.8, \"hwy\": 21, \"cty\": 15, \"drv\": \"f\", \"year\": 1999, \"model\": \"caravan 2wd\", \"trans\": \"auto(l4)\", \"fl\": \"r\", \"class\": \"minivan\", \"manufacturer\": \"dodge\", \"cyl\": 6}, {\"displ\": 3.8, \"hwy\": 23, \"cty\": 16, \"drv\": \"f\", \"year\": 2008, \"model\": \"caravan 2wd\", \"trans\": \"auto(l6)\", \"fl\": \"r\", \"class\": \"minivan\", \"manufacturer\": \"dodge\", \"cyl\": 6}, {\"displ\": 4.0, \"hwy\": 23, \"cty\": 16, \"drv\": \"f\", \"year\": 2008, \"model\": \"caravan 2wd\", \"trans\": \"auto(l6)\", \"fl\": \"r\", \"class\": \"minivan\", \"manufacturer\": \"dodge\", \"cyl\": 6}, {\"displ\": 3.7, \"hwy\": 19, \"cty\": 15, \"drv\": \"4\", \"year\": 2008, \"model\": \"dakota pickup 4wd\", \"trans\": \"manual(m6)\", \"fl\": \"r\", \"class\": \"pickup\", \"manufacturer\": \"dodge\", \"cyl\": 6}, {\"displ\": 3.7, \"hwy\": 18, \"cty\": 14, \"drv\": \"4\", \"year\": 2008, \"model\": \"dakota pickup 4wd\", \"trans\": \"auto(l4)\", \"fl\": \"r\", \"class\": \"pickup\", \"manufacturer\": \"dodge\", \"cyl\": 6}, {\"displ\": 3.9, \"hwy\": 17, \"cty\": 13, \"drv\": \"4\", \"year\": 1999, \"model\": \"dakota pickup 4wd\", \"trans\": \"auto(l4)\", \"fl\": \"r\", \"class\": \"pickup\", \"manufacturer\": \"dodge\", \"cyl\": 6}, {\"displ\": 3.9, \"hwy\": 17, \"cty\": 14, \"drv\": \"4\", \"year\": 1999, \"model\": \"dakota pickup 4wd\", \"trans\": \"manual(m5)\", \"fl\": \"r\", \"class\": \"pickup\", \"manufacturer\": \"dodge\", \"cyl\": 6}, {\"displ\": 4.7, \"hwy\": 19, \"cty\": 14, \"drv\": \"4\", \"year\": 2008, \"model\": \"dakota pickup 4wd\", \"trans\": \"auto(l5)\", \"fl\": \"r\", \"class\": \"pickup\", \"manufacturer\": \"dodge\", \"cyl\": 8}, {\"displ\": 4.7, \"hwy\": 19, \"cty\": 14, \"drv\": \"4\", \"year\": 2008, \"model\": \"dakota pickup 4wd\", \"trans\": \"auto(l5)\", \"fl\": \"r\", \"class\": \"pickup\", \"manufacturer\": \"dodge\", \"cyl\": 8}, {\"displ\": 4.7, \"hwy\": 12, \"cty\": 9, \"drv\": \"4\", \"year\": 2008, \"model\": \"dakota pickup 4wd\", \"trans\": \"auto(l5)\", \"fl\": \"e\", \"class\": \"pickup\", \"manufacturer\": \"dodge\", \"cyl\": 8}, {\"displ\": 5.2, \"hwy\": 17, \"cty\": 11, \"drv\": \"4\", \"year\": 1999, \"model\": \"dakota pickup 4wd\", \"trans\": \"manual(m5)\", \"fl\": \"r\", \"class\": \"pickup\", \"manufacturer\": \"dodge\", \"cyl\": 8}, {\"displ\": 5.2, \"hwy\": 15, \"cty\": 11, \"drv\": \"4\", \"year\": 1999, \"model\": \"dakota pickup 4wd\", \"trans\": \"auto(l4)\", \"fl\": \"r\", \"class\": \"pickup\", \"manufacturer\": \"dodge\", \"cyl\": 8}, {\"displ\": 3.9, \"hwy\": 17, \"cty\": 13, \"drv\": \"4\", \"year\": 1999, \"model\": \"durango 4wd\", \"trans\": \"auto(l4)\", \"fl\": \"r\", \"class\": \"suv\", \"manufacturer\": \"dodge\", \"cyl\": 6}, {\"displ\": 4.7, \"hwy\": 17, \"cty\": 13, \"drv\": \"4\", \"year\": 2008, \"model\": \"durango 4wd\", \"trans\": \"auto(l5)\", \"fl\": \"r\", \"class\": \"suv\", \"manufacturer\": \"dodge\", \"cyl\": 8}, {\"displ\": 4.7, \"hwy\": 12, \"cty\": 9, \"drv\": \"4\", \"year\": 2008, \"model\": \"durango 4wd\", \"trans\": \"auto(l5)\", \"fl\": \"e\", \"class\": \"suv\", \"manufacturer\": \"dodge\", \"cyl\": 8}, {\"displ\": 4.7, \"hwy\": 17, \"cty\": 13, \"drv\": \"4\", \"year\": 2008, \"model\": \"durango 4wd\", \"trans\": \"auto(l5)\", \"fl\": \"r\", \"class\": \"suv\", \"manufacturer\": \"dodge\", \"cyl\": 8}, {\"displ\": 5.2, \"hwy\": 16, \"cty\": 11, \"drv\": \"4\", \"year\": 1999, \"model\": \"durango 4wd\", \"trans\": \"auto(l4)\", \"fl\": \"r\", \"class\": \"suv\", \"manufacturer\": \"dodge\", \"cyl\": 8}, {\"displ\": 5.7, \"hwy\": 18, \"cty\": 13, \"drv\": \"4\", \"year\": 2008, \"model\": \"durango 4wd\", \"trans\": \"auto(l5)\", \"fl\": \"r\", \"class\": \"suv\", \"manufacturer\": \"dodge\", \"cyl\": 8}, {\"displ\": 5.9, \"hwy\": 15, \"cty\": 11, \"drv\": \"4\", \"year\": 1999, \"model\": \"durango 4wd\", \"trans\": \"auto(l4)\", \"fl\": \"r\", \"class\": \"suv\", \"manufacturer\": \"dodge\", \"cyl\": 8}, {\"displ\": 4.7, \"hwy\": 16, \"cty\": 12, \"drv\": \"4\", \"year\": 2008, \"model\": \"ram 1500 pickup 4wd\", \"trans\": \"manual(m6)\", \"fl\": \"r\", \"class\": \"pickup\", \"manufacturer\": \"dodge\", \"cyl\": 8}, {\"displ\": 4.7, \"hwy\": 12, \"cty\": 9, \"drv\": \"4\", \"year\": 2008, \"model\": \"ram 1500 pickup 4wd\", \"trans\": \"auto(l5)\", \"fl\": \"e\", \"class\": \"pickup\", \"manufacturer\": \"dodge\", \"cyl\": 8}, {\"displ\": 4.7, \"hwy\": 17, \"cty\": 13, \"drv\": \"4\", \"year\": 2008, \"model\": \"ram 1500 pickup 4wd\", \"trans\": \"auto(l5)\", \"fl\": \"r\", \"class\": \"pickup\", \"manufacturer\": \"dodge\", \"cyl\": 8}, {\"displ\": 4.7, \"hwy\": 17, \"cty\": 13, \"drv\": \"4\", \"year\": 2008, \"model\": \"ram 1500 pickup 4wd\", \"trans\": \"auto(l5)\", \"fl\": \"r\", \"class\": \"pickup\", \"manufacturer\": \"dodge\", \"cyl\": 8}, {\"displ\": 4.7, \"hwy\": 16, \"cty\": 12, \"drv\": \"4\", \"year\": 2008, \"model\": \"ram 1500 pickup 4wd\", \"trans\": \"manual(m6)\", \"fl\": \"r\", \"class\": \"pickup\", \"manufacturer\": \"dodge\", \"cyl\": 8}, {\"displ\": 4.7, \"hwy\": 12, \"cty\": 9, \"drv\": \"4\", \"year\": 2008, \"model\": \"ram 1500 pickup 4wd\", \"trans\": \"manual(m6)\", \"fl\": \"e\", \"class\": \"pickup\", \"manufacturer\": \"dodge\", \"cyl\": 8}, {\"displ\": 5.2, \"hwy\": 15, \"cty\": 11, \"drv\": \"4\", \"year\": 1999, \"model\": \"ram 1500 pickup 4wd\", \"trans\": \"auto(l4)\", \"fl\": \"r\", \"class\": \"pickup\", \"manufacturer\": \"dodge\", \"cyl\": 8}, {\"displ\": 5.2, \"hwy\": 16, \"cty\": 11, \"drv\": \"4\", \"year\": 1999, \"model\": \"ram 1500 pickup 4wd\", \"trans\": \"manual(m5)\", \"fl\": \"r\", \"class\": \"pickup\", \"manufacturer\": \"dodge\", \"cyl\": 8}, {\"displ\": 5.7, \"hwy\": 17, \"cty\": 13, \"drv\": \"4\", \"year\": 2008, \"model\": \"ram 1500 pickup 4wd\", \"trans\": \"auto(l5)\", \"fl\": \"r\", \"class\": \"pickup\", \"manufacturer\": \"dodge\", \"cyl\": 8}, {\"displ\": 5.9, \"hwy\": 15, \"cty\": 11, \"drv\": \"4\", \"year\": 1999, \"model\": \"ram 1500 pickup 4wd\", \"trans\": \"auto(l4)\", \"fl\": \"r\", \"class\": \"pickup\", \"manufacturer\": \"dodge\", \"cyl\": 8}, {\"displ\": 4.6, \"hwy\": 17, \"cty\": 11, \"drv\": \"r\", \"year\": 1999, \"model\": \"expedition 2wd\", \"trans\": \"auto(l4)\", \"fl\": \"r\", \"class\": \"suv\", \"manufacturer\": \"ford\", \"cyl\": 8}, {\"displ\": 5.4, \"hwy\": 17, \"cty\": 11, \"drv\": \"r\", \"year\": 1999, \"model\": \"expedition 2wd\", \"trans\": \"auto(l4)\", \"fl\": \"r\", \"class\": \"suv\", \"manufacturer\": \"ford\", \"cyl\": 8}, {\"displ\": 5.4, \"hwy\": 18, \"cty\": 12, \"drv\": \"r\", \"year\": 2008, \"model\": \"expedition 2wd\", \"trans\": \"auto(l6)\", \"fl\": \"r\", \"class\": \"suv\", \"manufacturer\": \"ford\", \"cyl\": 8}, {\"displ\": 4.0, \"hwy\": 17, \"cty\": 14, \"drv\": \"4\", \"year\": 1999, \"model\": \"explorer 4wd\", \"trans\": \"auto(l5)\", \"fl\": \"r\", \"class\": \"suv\", \"manufacturer\": \"ford\", \"cyl\": 6}, {\"displ\": 4.0, \"hwy\": 19, \"cty\": 15, \"drv\": \"4\", \"year\": 1999, \"model\": \"explorer 4wd\", \"trans\": \"manual(m5)\", \"fl\": \"r\", \"class\": \"suv\", \"manufacturer\": \"ford\", \"cyl\": 6}, {\"displ\": 4.0, \"hwy\": 17, \"cty\": 14, \"drv\": \"4\", \"year\": 1999, \"model\": \"explorer 4wd\", \"trans\": \"auto(l5)\", \"fl\": \"r\", \"class\": \"suv\", \"manufacturer\": \"ford\", \"cyl\": 6}, {\"displ\": 4.0, \"hwy\": 19, \"cty\": 13, \"drv\": \"4\", \"year\": 2008, \"model\": \"explorer 4wd\", \"trans\": \"auto(l5)\", \"fl\": \"r\", \"class\": \"suv\", \"manufacturer\": \"ford\", \"cyl\": 6}, {\"displ\": 4.6, \"hwy\": 19, \"cty\": 13, \"drv\": \"4\", \"year\": 2008, \"model\": \"explorer 4wd\", \"trans\": \"auto(l6)\", \"fl\": \"r\", \"class\": \"suv\", \"manufacturer\": \"ford\", \"cyl\": 8}, {\"displ\": 5.0, \"hwy\": 17, \"cty\": 13, \"drv\": \"4\", \"year\": 1999, \"model\": \"explorer 4wd\", \"trans\": \"auto(l4)\", \"fl\": \"r\", \"class\": \"suv\", \"manufacturer\": \"ford\", \"cyl\": 8}, {\"displ\": 4.2, \"hwy\": 17, \"cty\": 14, \"drv\": \"4\", \"year\": 1999, \"model\": \"f150 pickup 4wd\", \"trans\": \"auto(l4)\", \"fl\": \"r\", \"class\": \"pickup\", \"manufacturer\": \"ford\", \"cyl\": 6}, {\"displ\": 4.2, \"hwy\": 17, \"cty\": 14, \"drv\": \"4\", \"year\": 1999, \"model\": \"f150 pickup 4wd\", \"trans\": \"manual(m5)\", \"fl\": \"r\", \"class\": \"pickup\", \"manufacturer\": \"ford\", \"cyl\": 6}, {\"displ\": 4.6, \"hwy\": 16, \"cty\": 13, \"drv\": \"4\", \"year\": 1999, \"model\": \"f150 pickup 4wd\", \"trans\": \"manual(m5)\", \"fl\": \"r\", \"class\": \"pickup\", \"manufacturer\": \"ford\", \"cyl\": 8}, {\"displ\": 4.6, \"hwy\": 16, \"cty\": 13, \"drv\": \"4\", \"year\": 1999, \"model\": \"f150 pickup 4wd\", \"trans\": \"auto(l4)\", \"fl\": \"r\", \"class\": \"pickup\", \"manufacturer\": \"ford\", \"cyl\": 8}, {\"displ\": 4.6, \"hwy\": 17, \"cty\": 13, \"drv\": \"4\", \"year\": 2008, \"model\": \"f150 pickup 4wd\", \"trans\": \"auto(l4)\", \"fl\": \"r\", \"class\": \"pickup\", \"manufacturer\": \"ford\", \"cyl\": 8}, {\"displ\": 5.4, \"hwy\": 15, \"cty\": 11, \"drv\": \"4\", \"year\": 1999, \"model\": \"f150 pickup 4wd\", \"trans\": \"auto(l4)\", \"fl\": \"r\", \"class\": \"pickup\", \"manufacturer\": \"ford\", \"cyl\": 8}, {\"displ\": 5.4, \"hwy\": 17, \"cty\": 13, \"drv\": \"4\", \"year\": 2008, \"model\": \"f150 pickup 4wd\", \"trans\": \"auto(l4)\", \"fl\": \"r\", \"class\": \"pickup\", \"manufacturer\": \"ford\", \"cyl\": 8}, {\"displ\": 3.8, \"hwy\": 26, \"cty\": 18, \"drv\": \"r\", \"year\": 1999, \"model\": \"mustang\", \"trans\": \"manual(m5)\", \"fl\": \"r\", \"class\": \"subcompact\", \"manufacturer\": \"ford\", \"cyl\": 6}, {\"displ\": 3.8, \"hwy\": 25, \"cty\": 18, \"drv\": \"r\", \"year\": 1999, \"model\": \"mustang\", \"trans\": \"auto(l4)\", \"fl\": \"r\", \"class\": \"subcompact\", \"manufacturer\": \"ford\", \"cyl\": 6}, {\"displ\": 4.0, \"hwy\": 26, \"cty\": 17, \"drv\": \"r\", \"year\": 2008, \"model\": \"mustang\", \"trans\": \"manual(m5)\", \"fl\": \"r\", \"class\": \"subcompact\", \"manufacturer\": \"ford\", \"cyl\": 6}, {\"displ\": 4.0, \"hwy\": 24, \"cty\": 16, \"drv\": \"r\", \"year\": 2008, \"model\": \"mustang\", \"trans\": \"auto(l5)\", \"fl\": \"r\", \"class\": \"subcompact\", \"manufacturer\": \"ford\", \"cyl\": 6}, {\"displ\": 4.6, \"hwy\": 21, \"cty\": 15, \"drv\": \"r\", \"year\": 1999, \"model\": \"mustang\", \"trans\": \"auto(l4)\", \"fl\": \"r\", \"class\": \"subcompact\", \"manufacturer\": \"ford\", \"cyl\": 8}, {\"displ\": 4.6, \"hwy\": 22, \"cty\": 15, \"drv\": \"r\", \"year\": 1999, \"model\": \"mustang\", \"trans\": \"manual(m5)\", \"fl\": \"r\", \"class\": \"subcompact\", \"manufacturer\": \"ford\", \"cyl\": 8}, {\"displ\": 4.6, \"hwy\": 23, \"cty\": 15, \"drv\": \"r\", \"year\": 2008, \"model\": \"mustang\", \"trans\": \"manual(m5)\", \"fl\": \"r\", \"class\": \"subcompact\", \"manufacturer\": \"ford\", \"cyl\": 8}, {\"displ\": 4.6, \"hwy\": 22, \"cty\": 15, \"drv\": \"r\", \"year\": 2008, \"model\": \"mustang\", \"trans\": \"auto(l5)\", \"fl\": \"r\", \"class\": \"subcompact\", \"manufacturer\": \"ford\", \"cyl\": 8}, {\"displ\": 5.4, \"hwy\": 20, \"cty\": 14, \"drv\": \"r\", \"year\": 2008, \"model\": \"mustang\", \"trans\": \"manual(m6)\", \"fl\": \"p\", \"class\": \"subcompact\", \"manufacturer\": \"ford\", \"cyl\": 8}, {\"displ\": 1.6, \"hwy\": 33, \"cty\": 28, \"drv\": \"f\", \"year\": 1999, \"model\": \"civic\", \"trans\": \"manual(m5)\", \"fl\": \"r\", \"class\": \"subcompact\", \"manufacturer\": \"honda\", \"cyl\": 4}, {\"displ\": 1.6, \"hwy\": 32, \"cty\": 24, \"drv\": \"f\", \"year\": 1999, \"model\": \"civic\", \"trans\": \"auto(l4)\", \"fl\": \"r\", \"class\": \"subcompact\", \"manufacturer\": \"honda\", \"cyl\": 4}, {\"displ\": 1.6, \"hwy\": 32, \"cty\": 25, \"drv\": \"f\", \"year\": 1999, \"model\": \"civic\", \"trans\": \"manual(m5)\", \"fl\": \"r\", \"class\": \"subcompact\", \"manufacturer\": \"honda\", \"cyl\": 4}, {\"displ\": 1.6, \"hwy\": 29, \"cty\": 23, \"drv\": \"f\", \"year\": 1999, \"model\": \"civic\", \"trans\": \"manual(m5)\", \"fl\": \"p\", \"class\": \"subcompact\", \"manufacturer\": \"honda\", \"cyl\": 4}, {\"displ\": 1.6, \"hwy\": 32, \"cty\": 24, \"drv\": \"f\", \"year\": 1999, \"model\": \"civic\", \"trans\": \"auto(l4)\", \"fl\": \"r\", \"class\": \"subcompact\", \"manufacturer\": \"honda\", \"cyl\": 4}, {\"displ\": 1.8, \"hwy\": 34, \"cty\": 26, \"drv\": \"f\", \"year\": 2008, \"model\": \"civic\", \"trans\": \"manual(m5)\", \"fl\": \"r\", \"class\": \"subcompact\", \"manufacturer\": \"honda\", \"cyl\": 4}, {\"displ\": 1.8, \"hwy\": 36, \"cty\": 25, \"drv\": \"f\", \"year\": 2008, \"model\": \"civic\", \"trans\": \"auto(l5)\", \"fl\": \"r\", \"class\": \"subcompact\", \"manufacturer\": \"honda\", \"cyl\": 4}, {\"displ\": 1.8, \"hwy\": 36, \"cty\": 24, \"drv\": \"f\", \"year\": 2008, \"model\": \"civic\", \"trans\": \"auto(l5)\", \"fl\": \"c\", \"class\": \"subcompact\", \"manufacturer\": \"honda\", \"cyl\": 4}, {\"displ\": 2.0, \"hwy\": 29, \"cty\": 21, \"drv\": \"f\", \"year\": 2008, \"model\": \"civic\", \"trans\": \"manual(m6)\", \"fl\": \"p\", \"class\": \"subcompact\", \"manufacturer\": \"honda\", \"cyl\": 4}, {\"displ\": 2.4, \"hwy\": 26, \"cty\": 18, \"drv\": \"f\", \"year\": 1999, \"model\": \"sonata\", \"trans\": \"auto(l4)\", \"fl\": \"r\", \"class\": \"midsize\", \"manufacturer\": \"hyundai\", \"cyl\": 4}, {\"displ\": 2.4, \"hwy\": 27, \"cty\": 18, \"drv\": \"f\", \"year\": 1999, \"model\": \"sonata\", \"trans\": \"manual(m5)\", \"fl\": \"r\", \"class\": \"midsize\", \"manufacturer\": \"hyundai\", \"cyl\": 4}, {\"displ\": 2.4, \"hwy\": 30, \"cty\": 21, \"drv\": \"f\", \"year\": 2008, \"model\": \"sonata\", \"trans\": \"auto(l4)\", \"fl\": \"r\", \"class\": \"midsize\", \"manufacturer\": \"hyundai\", \"cyl\": 4}, {\"displ\": 2.4, \"hwy\": 31, \"cty\": 21, \"drv\": \"f\", \"year\": 2008, \"model\": \"sonata\", \"trans\": \"manual(m5)\", \"fl\": \"r\", \"class\": \"midsize\", \"manufacturer\": \"hyundai\", \"cyl\": 4}, {\"displ\": 2.5, \"hwy\": 26, \"cty\": 18, \"drv\": \"f\", \"year\": 1999, \"model\": \"sonata\", \"trans\": \"auto(l4)\", \"fl\": \"r\", \"class\": \"midsize\", \"manufacturer\": \"hyundai\", \"cyl\": 6}, {\"displ\": 2.5, \"hwy\": 26, \"cty\": 18, \"drv\": \"f\", \"year\": 1999, \"model\": \"sonata\", \"trans\": \"manual(m5)\", \"fl\": \"r\", \"class\": \"midsize\", \"manufacturer\": \"hyundai\", \"cyl\": 6}, {\"displ\": 3.3, \"hwy\": 28, \"cty\": 19, \"drv\": \"f\", \"year\": 2008, \"model\": \"sonata\", \"trans\": \"auto(l5)\", \"fl\": \"r\", \"class\": \"midsize\", \"manufacturer\": \"hyundai\", \"cyl\": 6}, {\"displ\": 2.0, \"hwy\": 26, \"cty\": 19, \"drv\": \"f\", \"year\": 1999, \"model\": \"tiburon\", \"trans\": \"auto(l4)\", \"fl\": \"r\", \"class\": \"subcompact\", \"manufacturer\": \"hyundai\", \"cyl\": 4}, {\"displ\": 2.0, \"hwy\": 29, \"cty\": 19, \"drv\": \"f\", \"year\": 1999, \"model\": \"tiburon\", \"trans\": \"manual(m5)\", \"fl\": \"r\", \"class\": \"subcompact\", \"manufacturer\": \"hyundai\", \"cyl\": 4}, {\"displ\": 2.0, \"hwy\": 28, \"cty\": 20, \"drv\": \"f\", \"year\": 2008, \"model\": \"tiburon\", \"trans\": \"manual(m5)\", \"fl\": \"r\", \"class\": \"subcompact\", \"manufacturer\": \"hyundai\", \"cyl\": 4}, {\"displ\": 2.0, \"hwy\": 27, \"cty\": 20, \"drv\": \"f\", \"year\": 2008, \"model\": \"tiburon\", \"trans\": \"auto(l4)\", \"fl\": \"r\", \"class\": \"subcompact\", \"manufacturer\": \"hyundai\", \"cyl\": 4}, {\"displ\": 2.7, \"hwy\": 24, \"cty\": 17, \"drv\": \"f\", \"year\": 2008, \"model\": \"tiburon\", \"trans\": \"auto(l4)\", \"fl\": \"r\", \"class\": \"subcompact\", \"manufacturer\": \"hyundai\", \"cyl\": 6}, {\"displ\": 2.7, \"hwy\": 24, \"cty\": 16, \"drv\": \"f\", \"year\": 2008, \"model\": \"tiburon\", \"trans\": \"manual(m6)\", \"fl\": \"r\", \"class\": \"subcompact\", \"manufacturer\": \"hyundai\", \"cyl\": 6}, {\"displ\": 2.7, \"hwy\": 24, \"cty\": 17, \"drv\": \"f\", \"year\": 2008, \"model\": \"tiburon\", \"trans\": \"manual(m5)\", \"fl\": \"r\", \"class\": \"subcompact\", \"manufacturer\": \"hyundai\", \"cyl\": 6}, {\"displ\": 3.0, \"hwy\": 22, \"cty\": 17, \"drv\": \"4\", \"year\": 2008, \"model\": \"grand cherokee 4wd\", \"trans\": \"auto(l5)\", \"fl\": \"d\", \"class\": \"suv\", \"manufacturer\": \"jeep\", \"cyl\": 6}, {\"displ\": 3.7, \"hwy\": 19, \"cty\": 15, \"drv\": \"4\", \"year\": 2008, \"model\": \"grand cherokee 4wd\", \"trans\": \"auto(l5)\", \"fl\": \"r\", \"class\": \"suv\", \"manufacturer\": \"jeep\", \"cyl\": 6}, {\"displ\": 4.0, \"hwy\": 20, \"cty\": 15, \"drv\": \"4\", \"year\": 1999, \"model\": \"grand cherokee 4wd\", \"trans\": \"auto(l4)\", \"fl\": \"r\", \"class\": \"suv\", \"manufacturer\": \"jeep\", \"cyl\": 6}, {\"displ\": 4.7, \"hwy\": 17, \"cty\": 14, \"drv\": \"4\", \"year\": 1999, \"model\": \"grand cherokee 4wd\", \"trans\": \"auto(l4)\", \"fl\": \"r\", \"class\": \"suv\", \"manufacturer\": \"jeep\", \"cyl\": 8}, {\"displ\": 4.7, \"hwy\": 12, \"cty\": 9, \"drv\": \"4\", \"year\": 2008, \"model\": \"grand cherokee 4wd\", \"trans\": \"auto(l5)\", \"fl\": \"e\", \"class\": \"suv\", \"manufacturer\": \"jeep\", \"cyl\": 8}, {\"displ\": 4.7, \"hwy\": 19, \"cty\": 14, \"drv\": \"4\", \"year\": 2008, \"model\": \"grand cherokee 4wd\", \"trans\": \"auto(l5)\", \"fl\": \"r\", \"class\": \"suv\", \"manufacturer\": \"jeep\", \"cyl\": 8}, {\"displ\": 5.7, \"hwy\": 18, \"cty\": 13, \"drv\": \"4\", \"year\": 2008, \"model\": \"grand cherokee 4wd\", \"trans\": \"auto(l5)\", \"fl\": \"r\", \"class\": \"suv\", \"manufacturer\": \"jeep\", \"cyl\": 8}, {\"displ\": 6.1, \"hwy\": 14, \"cty\": 11, \"drv\": \"4\", \"year\": 2008, \"model\": \"grand cherokee 4wd\", \"trans\": \"auto(l5)\", \"fl\": \"p\", \"class\": \"suv\", \"manufacturer\": \"jeep\", \"cyl\": 8}, {\"displ\": 4.0, \"hwy\": 15, \"cty\": 11, \"drv\": \"4\", \"year\": 1999, \"model\": \"range rover\", \"trans\": \"auto(l4)\", \"fl\": \"p\", \"class\": \"suv\", \"manufacturer\": \"land rover\", \"cyl\": 8}, {\"displ\": 4.2, \"hwy\": 18, \"cty\": 12, \"drv\": \"4\", \"year\": 2008, \"model\": \"range rover\", \"trans\": \"auto(s6)\", \"fl\": \"r\", \"class\": \"suv\", \"manufacturer\": \"land rover\", \"cyl\": 8}, {\"displ\": 4.4, \"hwy\": 18, \"cty\": 12, \"drv\": \"4\", \"year\": 2008, \"model\": \"range rover\", \"trans\": \"auto(s6)\", \"fl\": \"r\", \"class\": \"suv\", \"manufacturer\": \"land rover\", \"cyl\": 8}, {\"displ\": 4.6, \"hwy\": 15, \"cty\": 11, \"drv\": \"4\", \"year\": 1999, \"model\": \"range rover\", \"trans\": \"auto(l4)\", \"fl\": \"p\", \"class\": \"suv\", \"manufacturer\": \"land rover\", \"cyl\": 8}, {\"displ\": 5.4, \"hwy\": 17, \"cty\": 11, \"drv\": \"r\", \"year\": 1999, \"model\": \"navigator 2wd\", \"trans\": \"auto(l4)\", \"fl\": \"r\", \"class\": \"suv\", \"manufacturer\": \"lincoln\", \"cyl\": 8}, {\"displ\": 5.4, \"hwy\": 16, \"cty\": 11, \"drv\": \"r\", \"year\": 1999, \"model\": \"navigator 2wd\", \"trans\": \"auto(l4)\", \"fl\": \"p\", \"class\": \"suv\", \"manufacturer\": \"lincoln\", \"cyl\": 8}, {\"displ\": 5.4, \"hwy\": 18, \"cty\": 12, \"drv\": \"r\", \"year\": 2008, \"model\": \"navigator 2wd\", \"trans\": \"auto(l6)\", \"fl\": \"r\", \"class\": \"suv\", \"manufacturer\": \"lincoln\", \"cyl\": 8}, {\"displ\": 4.0, \"hwy\": 17, \"cty\": 14, \"drv\": \"4\", \"year\": 1999, \"model\": \"mountaineer 4wd\", \"trans\": \"auto(l5)\", \"fl\": \"r\", \"class\": \"suv\", \"manufacturer\": \"mercury\", \"cyl\": 6}, {\"displ\": 4.0, \"hwy\": 19, \"cty\": 13, \"drv\": \"4\", \"year\": 2008, \"model\": \"mountaineer 4wd\", \"trans\": \"auto(l5)\", \"fl\": \"r\", \"class\": \"suv\", \"manufacturer\": \"mercury\", \"cyl\": 6}, {\"displ\": 4.6, \"hwy\": 19, \"cty\": 13, \"drv\": \"4\", \"year\": 2008, \"model\": \"mountaineer 4wd\", \"trans\": \"auto(l6)\", \"fl\": \"r\", \"class\": \"suv\", \"manufacturer\": \"mercury\", \"cyl\": 8}, {\"displ\": 5.0, \"hwy\": 17, \"cty\": 13, \"drv\": \"4\", \"year\": 1999, \"model\": \"mountaineer 4wd\", \"trans\": \"auto(l4)\", \"fl\": \"r\", \"class\": \"suv\", \"manufacturer\": \"mercury\", \"cyl\": 8}, {\"displ\": 2.4, \"hwy\": 29, \"cty\": 21, \"drv\": \"f\", \"year\": 1999, \"model\": \"altima\", \"trans\": \"manual(m5)\", \"fl\": \"r\", \"class\": \"compact\", \"manufacturer\": \"nissan\", \"cyl\": 4}, {\"displ\": 2.4, \"hwy\": 27, \"cty\": 19, \"drv\": \"f\", \"year\": 1999, \"model\": \"altima\", \"trans\": \"auto(l4)\", \"fl\": \"r\", \"class\": \"compact\", \"manufacturer\": \"nissan\", \"cyl\": 4}, {\"displ\": 2.5, \"hwy\": 31, \"cty\": 23, \"drv\": \"f\", \"year\": 2008, \"model\": \"altima\", \"trans\": \"auto(av)\", \"fl\": \"r\", \"class\": \"midsize\", \"manufacturer\": \"nissan\", \"cyl\": 4}, {\"displ\": 2.5, \"hwy\": 32, \"cty\": 23, \"drv\": \"f\", \"year\": 2008, \"model\": \"altima\", \"trans\": \"manual(m6)\", \"fl\": \"r\", \"class\": \"midsize\", \"manufacturer\": \"nissan\", \"cyl\": 4}, {\"displ\": 3.5, \"hwy\": 27, \"cty\": 19, \"drv\": \"f\", \"year\": 2008, \"model\": \"altima\", \"trans\": \"manual(m6)\", \"fl\": \"p\", \"class\": \"midsize\", \"manufacturer\": \"nissan\", \"cyl\": 6}, {\"displ\": 3.5, \"hwy\": 26, \"cty\": 19, \"drv\": \"f\", \"year\": 2008, \"model\": \"altima\", \"trans\": \"auto(av)\", \"fl\": \"p\", \"class\": \"midsize\", \"manufacturer\": \"nissan\", \"cyl\": 6}, {\"displ\": 3.0, \"hwy\": 26, \"cty\": 18, \"drv\": \"f\", \"year\": 1999, \"model\": \"maxima\", \"trans\": \"auto(l4)\", \"fl\": \"r\", \"class\": \"midsize\", \"manufacturer\": \"nissan\", \"cyl\": 6}, {\"displ\": 3.0, \"hwy\": 25, \"cty\": 19, \"drv\": \"f\", \"year\": 1999, \"model\": \"maxima\", \"trans\": \"manual(m5)\", \"fl\": \"r\", \"class\": \"midsize\", \"manufacturer\": \"nissan\", \"cyl\": 6}, {\"displ\": 3.5, \"hwy\": 25, \"cty\": 19, \"drv\": \"f\", \"year\": 2008, \"model\": \"maxima\", \"trans\": \"auto(av)\", \"fl\": \"p\", \"class\": \"midsize\", \"manufacturer\": \"nissan\", \"cyl\": 6}, {\"displ\": 3.3, \"hwy\": 17, \"cty\": 14, \"drv\": \"4\", \"year\": 1999, \"model\": \"pathfinder 4wd\", \"trans\": \"auto(l4)\", \"fl\": \"r\", \"class\": \"suv\", \"manufacturer\": \"nissan\", \"cyl\": 6}, {\"displ\": 3.3, \"hwy\": 17, \"cty\": 15, \"drv\": \"4\", \"year\": 1999, \"model\": \"pathfinder 4wd\", \"trans\": \"manual(m5)\", \"fl\": \"r\", \"class\": \"suv\", \"manufacturer\": \"nissan\", \"cyl\": 6}, {\"displ\": 4.0, \"hwy\": 20, \"cty\": 14, \"drv\": \"4\", \"year\": 2008, \"model\": \"pathfinder 4wd\", \"trans\": \"auto(l5)\", \"fl\": \"p\", \"class\": \"suv\", \"manufacturer\": \"nissan\", \"cyl\": 6}, {\"displ\": 5.6, \"hwy\": 18, \"cty\": 12, \"drv\": \"4\", \"year\": 2008, \"model\": \"pathfinder 4wd\", \"trans\": \"auto(s5)\", \"fl\": \"p\", \"class\": \"suv\", \"manufacturer\": \"nissan\", \"cyl\": 8}, {\"displ\": 3.1, \"hwy\": 26, \"cty\": 18, \"drv\": \"f\", \"year\": 1999, \"model\": \"grand prix\", \"trans\": \"auto(l4)\", \"fl\": \"r\", \"class\": \"midsize\", \"manufacturer\": \"pontiac\", \"cyl\": 6}, {\"displ\": 3.8, \"hwy\": 26, \"cty\": 16, \"drv\": \"f\", \"year\": 1999, \"model\": \"grand prix\", \"trans\": \"auto(l4)\", \"fl\": \"p\", \"class\": \"midsize\", \"manufacturer\": \"pontiac\", \"cyl\": 6}, {\"displ\": 3.8, \"hwy\": 27, \"cty\": 17, \"drv\": \"f\", \"year\": 1999, \"model\": \"grand prix\", \"trans\": \"auto(l4)\", \"fl\": \"r\", \"class\": \"midsize\", \"manufacturer\": \"pontiac\", \"cyl\": 6}, {\"displ\": 3.8, \"hwy\": 28, \"cty\": 18, \"drv\": \"f\", \"year\": 2008, \"model\": \"grand prix\", \"trans\": \"auto(l4)\", \"fl\": \"r\", \"class\": \"midsize\", \"manufacturer\": \"pontiac\", \"cyl\": 6}, {\"displ\": 5.3, \"hwy\": 25, \"cty\": 16, \"drv\": \"f\", \"year\": 2008, \"model\": \"grand prix\", \"trans\": \"auto(s4)\", \"fl\": \"p\", \"class\": \"midsize\", \"manufacturer\": \"pontiac\", \"cyl\": 8}, {\"displ\": 2.5, \"hwy\": 25, \"cty\": 18, \"drv\": \"4\", \"year\": 1999, \"model\": \"forester awd\", \"trans\": \"manual(m5)\", \"fl\": \"r\", \"class\": \"suv\", \"manufacturer\": \"subaru\", \"cyl\": 4}, {\"displ\": 2.5, \"hwy\": 24, \"cty\": 18, \"drv\": \"4\", \"year\": 1999, \"model\": \"forester awd\", \"trans\": \"auto(l4)\", \"fl\": \"r\", \"class\": \"suv\", \"manufacturer\": \"subaru\", \"cyl\": 4}, {\"displ\": 2.5, \"hwy\": 27, \"cty\": 20, \"drv\": \"4\", \"year\": 2008, \"model\": \"forester awd\", \"trans\": \"manual(m5)\", \"fl\": \"r\", \"class\": \"suv\", \"manufacturer\": \"subaru\", \"cyl\": 4}, {\"displ\": 2.5, \"hwy\": 25, \"cty\": 19, \"drv\": \"4\", \"year\": 2008, \"model\": \"forester awd\", \"trans\": \"manual(m5)\", \"fl\": \"p\", \"class\": \"suv\", \"manufacturer\": \"subaru\", \"cyl\": 4}, {\"displ\": 2.5, \"hwy\": 26, \"cty\": 20, \"drv\": \"4\", \"year\": 2008, \"model\": \"forester awd\", \"trans\": \"auto(l4)\", \"fl\": \"r\", \"class\": \"suv\", \"manufacturer\": \"subaru\", \"cyl\": 4}, {\"displ\": 2.5, \"hwy\": 23, \"cty\": 18, \"drv\": \"4\", \"year\": 2008, \"model\": \"forester awd\", \"trans\": \"auto(l4)\", \"fl\": \"p\", \"class\": \"suv\", \"manufacturer\": \"subaru\", \"cyl\": 4}, {\"displ\": 2.2, \"hwy\": 26, \"cty\": 21, \"drv\": \"4\", \"year\": 1999, \"model\": \"impreza awd\", \"trans\": \"auto(l4)\", \"fl\": \"r\", \"class\": \"subcompact\", \"manufacturer\": \"subaru\", \"cyl\": 4}, {\"displ\": 2.2, \"hwy\": 26, \"cty\": 19, \"drv\": \"4\", \"year\": 1999, \"model\": \"impreza awd\", \"trans\": \"manual(m5)\", \"fl\": \"r\", \"class\": \"subcompact\", \"manufacturer\": \"subaru\", \"cyl\": 4}, {\"displ\": 2.5, \"hwy\": 26, \"cty\": 19, \"drv\": \"4\", \"year\": 1999, \"model\": \"impreza awd\", \"trans\": \"manual(m5)\", \"fl\": \"r\", \"class\": \"subcompact\", \"manufacturer\": \"subaru\", \"cyl\": 4}, {\"displ\": 2.5, \"hwy\": 26, \"cty\": 19, \"drv\": \"4\", \"year\": 1999, \"model\": \"impreza awd\", \"trans\": \"auto(l4)\", \"fl\": \"r\", \"class\": \"subcompact\", \"manufacturer\": \"subaru\", \"cyl\": 4}, {\"displ\": 2.5, \"hwy\": 25, \"cty\": 20, \"drv\": \"4\", \"year\": 2008, \"model\": \"impreza awd\", \"trans\": \"auto(s4)\", \"fl\": \"p\", \"class\": \"compact\", \"manufacturer\": \"subaru\", \"cyl\": 4}, {\"displ\": 2.5, \"hwy\": 27, \"cty\": 20, \"drv\": \"4\", \"year\": 2008, \"model\": \"impreza awd\", \"trans\": \"auto(s4)\", \"fl\": \"r\", \"class\": \"compact\", \"manufacturer\": \"subaru\", \"cyl\": 4}, {\"displ\": 2.5, \"hwy\": 25, \"cty\": 19, \"drv\": \"4\", \"year\": 2008, \"model\": \"impreza awd\", \"trans\": \"manual(m5)\", \"fl\": \"p\", \"class\": \"compact\", \"manufacturer\": \"subaru\", \"cyl\": 4}, {\"displ\": 2.5, \"hwy\": 27, \"cty\": 20, \"drv\": \"4\", \"year\": 2008, \"model\": \"impreza awd\", \"trans\": \"manual(m5)\", \"fl\": \"r\", \"class\": \"compact\", \"manufacturer\": \"subaru\", \"cyl\": 4}, {\"displ\": 2.7, \"hwy\": 20, \"cty\": 15, \"drv\": \"4\", \"year\": 1999, \"model\": \"4runner 4wd\", \"trans\": \"manual(m5)\", \"fl\": \"r\", \"class\": \"suv\", \"manufacturer\": \"toyota\", \"cyl\": 4}, {\"displ\": 2.7, \"hwy\": 20, \"cty\": 16, \"drv\": \"4\", \"year\": 1999, \"model\": \"4runner 4wd\", \"trans\": \"auto(l4)\", \"fl\": \"r\", \"class\": \"suv\", \"manufacturer\": \"toyota\", \"cyl\": 4}, {\"displ\": 3.4, \"hwy\": 19, \"cty\": 15, \"drv\": \"4\", \"year\": 1999, \"model\": \"4runner 4wd\", \"trans\": \"auto(l4)\", \"fl\": \"r\", \"class\": \"suv\", \"manufacturer\": \"toyota\", \"cyl\": 6}, {\"displ\": 3.4, \"hwy\": 17, \"cty\": 15, \"drv\": \"4\", \"year\": 1999, \"model\": \"4runner 4wd\", \"trans\": \"manual(m5)\", \"fl\": \"r\", \"class\": \"suv\", \"manufacturer\": \"toyota\", \"cyl\": 6}, {\"displ\": 4.0, \"hwy\": 20, \"cty\": 16, \"drv\": \"4\", \"year\": 2008, \"model\": \"4runner 4wd\", \"trans\": \"auto(l5)\", \"fl\": \"r\", \"class\": \"suv\", \"manufacturer\": \"toyota\", \"cyl\": 6}, {\"displ\": 4.7, \"hwy\": 17, \"cty\": 14, \"drv\": \"4\", \"year\": 2008, \"model\": \"4runner 4wd\", \"trans\": \"auto(l5)\", \"fl\": \"r\", \"class\": \"suv\", \"manufacturer\": \"toyota\", \"cyl\": 8}, {\"displ\": 2.2, \"hwy\": 29, \"cty\": 21, \"drv\": \"f\", \"year\": 1999, \"model\": \"camry\", \"trans\": \"manual(m5)\", \"fl\": \"r\", \"class\": \"midsize\", \"manufacturer\": \"toyota\", \"cyl\": 4}, {\"displ\": 2.2, \"hwy\": 27, \"cty\": 21, \"drv\": \"f\", \"year\": 1999, \"model\": \"camry\", \"trans\": \"auto(l4)\", \"fl\": \"r\", \"class\": \"midsize\", \"manufacturer\": \"toyota\", \"cyl\": 4}, {\"displ\": 2.4, \"hwy\": 31, \"cty\": 21, \"drv\": \"f\", \"year\": 2008, \"model\": \"camry\", \"trans\": \"manual(m5)\", \"fl\": \"r\", \"class\": \"midsize\", \"manufacturer\": \"toyota\", \"cyl\": 4}, {\"displ\": 2.4, \"hwy\": 31, \"cty\": 21, \"drv\": \"f\", \"year\": 2008, \"model\": \"camry\", \"trans\": \"auto(l5)\", \"fl\": \"r\", \"class\": \"midsize\", \"manufacturer\": \"toyota\", \"cyl\": 4}, {\"displ\": 3.0, \"hwy\": 26, \"cty\": 18, \"drv\": \"f\", \"year\": 1999, \"model\": \"camry\", \"trans\": \"auto(l4)\", \"fl\": \"r\", \"class\": \"midsize\", \"manufacturer\": \"toyota\", \"cyl\": 6}, {\"displ\": 3.0, \"hwy\": 26, \"cty\": 18, \"drv\": \"f\", \"year\": 1999, \"model\": \"camry\", \"trans\": \"manual(m5)\", \"fl\": \"r\", \"class\": \"midsize\", \"manufacturer\": \"toyota\", \"cyl\": 6}, {\"displ\": 3.5, \"hwy\": 28, \"cty\": 19, \"drv\": \"f\", \"year\": 2008, \"model\": \"camry\", \"trans\": \"auto(s6)\", \"fl\": \"r\", \"class\": \"midsize\", \"manufacturer\": \"toyota\", \"cyl\": 6}, {\"displ\": 2.2, \"hwy\": 27, \"cty\": 21, \"drv\": \"f\", \"year\": 1999, \"model\": \"camry solara\", \"trans\": \"auto(l4)\", \"fl\": \"r\", \"class\": \"compact\", \"manufacturer\": \"toyota\", \"cyl\": 4}, {\"displ\": 2.2, \"hwy\": 29, \"cty\": 21, \"drv\": \"f\", \"year\": 1999, \"model\": \"camry solara\", \"trans\": \"manual(m5)\", \"fl\": \"r\", \"class\": \"compact\", \"manufacturer\": \"toyota\", \"cyl\": 4}, {\"displ\": 2.4, \"hwy\": 31, \"cty\": 21, \"drv\": \"f\", \"year\": 2008, \"model\": \"camry solara\", \"trans\": \"manual(m5)\", \"fl\": \"r\", \"class\": \"compact\", \"manufacturer\": \"toyota\", \"cyl\": 4}, {\"displ\": 2.4, \"hwy\": 31, \"cty\": 22, \"drv\": \"f\", \"year\": 2008, \"model\": \"camry solara\", \"trans\": \"auto(s5)\", \"fl\": \"r\", \"class\": \"compact\", \"manufacturer\": \"toyota\", \"cyl\": 4}, {\"displ\": 3.0, \"hwy\": 26, \"cty\": 18, \"drv\": \"f\", \"year\": 1999, \"model\": \"camry solara\", \"trans\": \"auto(l4)\", \"fl\": \"r\", \"class\": \"compact\", \"manufacturer\": \"toyota\", \"cyl\": 6}, {\"displ\": 3.0, \"hwy\": 26, \"cty\": 18, \"drv\": \"f\", \"year\": 1999, \"model\": \"camry solara\", \"trans\": \"manual(m5)\", \"fl\": \"r\", \"class\": \"compact\", \"manufacturer\": \"toyota\", \"cyl\": 6}, {\"displ\": 3.3, \"hwy\": 27, \"cty\": 18, \"drv\": \"f\", \"year\": 2008, \"model\": \"camry solara\", \"trans\": \"auto(s5)\", \"fl\": \"r\", \"class\": \"compact\", \"manufacturer\": \"toyota\", \"cyl\": 6}, {\"displ\": 1.8, \"hwy\": 30, \"cty\": 24, \"drv\": \"f\", \"year\": 1999, \"model\": \"corolla\", \"trans\": \"auto(l3)\", \"fl\": \"r\", \"class\": \"compact\", \"manufacturer\": \"toyota\", \"cyl\": 4}, {\"displ\": 1.8, \"hwy\": 33, \"cty\": 24, \"drv\": \"f\", \"year\": 1999, \"model\": \"corolla\", \"trans\": \"auto(l4)\", \"fl\": \"r\", \"class\": \"compact\", \"manufacturer\": \"toyota\", \"cyl\": 4}, {\"displ\": 1.8, \"hwy\": 35, \"cty\": 26, \"drv\": \"f\", \"year\": 1999, \"model\": \"corolla\", \"trans\": \"manual(m5)\", \"fl\": \"r\", \"class\": \"compact\", \"manufacturer\": \"toyota\", \"cyl\": 4}, {\"displ\": 1.8, \"hwy\": 37, \"cty\": 28, \"drv\": \"f\", \"year\": 2008, \"model\": \"corolla\", \"trans\": \"manual(m5)\", \"fl\": \"r\", \"class\": \"compact\", \"manufacturer\": \"toyota\", \"cyl\": 4}, {\"displ\": 1.8, \"hwy\": 35, \"cty\": 26, \"drv\": \"f\", \"year\": 2008, \"model\": \"corolla\", \"trans\": \"auto(l4)\", \"fl\": \"r\", \"class\": \"compact\", \"manufacturer\": \"toyota\", \"cyl\": 4}, {\"displ\": 4.7, \"hwy\": 15, \"cty\": 11, \"drv\": \"4\", \"year\": 1999, \"model\": \"land cruiser wagon 4wd\", \"trans\": \"auto(l4)\", \"fl\": \"r\", \"class\": \"suv\", \"manufacturer\": \"toyota\", \"cyl\": 8}, {\"displ\": 5.7, \"hwy\": 18, \"cty\": 13, \"drv\": \"4\", \"year\": 2008, \"model\": \"land cruiser wagon 4wd\", \"trans\": \"auto(s6)\", \"fl\": \"r\", \"class\": \"suv\", \"manufacturer\": \"toyota\", \"cyl\": 8}, {\"displ\": 2.7, \"hwy\": 20, \"cty\": 15, \"drv\": \"4\", \"year\": 1999, \"model\": \"toyota tacoma 4wd\", \"trans\": \"manual(m5)\", \"fl\": \"r\", \"class\": \"pickup\", \"manufacturer\": \"toyota\", \"cyl\": 4}, {\"displ\": 2.7, \"hwy\": 20, \"cty\": 16, \"drv\": \"4\", \"year\": 1999, \"model\": \"toyota tacoma 4wd\", \"trans\": \"auto(l4)\", \"fl\": \"r\", \"class\": \"pickup\", \"manufacturer\": \"toyota\", \"cyl\": 4}, {\"displ\": 2.7, \"hwy\": 22, \"cty\": 17, \"drv\": \"4\", \"year\": 2008, \"model\": \"toyota tacoma 4wd\", \"trans\": \"manual(m5)\", \"fl\": \"r\", \"class\": \"pickup\", \"manufacturer\": \"toyota\", \"cyl\": 4}, {\"displ\": 3.4, \"hwy\": 17, \"cty\": 15, \"drv\": \"4\", \"year\": 1999, \"model\": \"toyota tacoma 4wd\", \"trans\": \"manual(m5)\", \"fl\": \"r\", \"class\": \"pickup\", \"manufacturer\": \"toyota\", \"cyl\": 6}, {\"displ\": 3.4, \"hwy\": 19, \"cty\": 15, \"drv\": \"4\", \"year\": 1999, \"model\": \"toyota tacoma 4wd\", \"trans\": \"auto(l4)\", \"fl\": \"r\", \"class\": \"pickup\", \"manufacturer\": \"toyota\", \"cyl\": 6}, {\"displ\": 4.0, \"hwy\": 18, \"cty\": 15, \"drv\": \"4\", \"year\": 2008, \"model\": \"toyota tacoma 4wd\", \"trans\": \"manual(m6)\", \"fl\": \"r\", \"class\": \"pickup\", \"manufacturer\": \"toyota\", \"cyl\": 6}, {\"displ\": 4.0, \"hwy\": 20, \"cty\": 16, \"drv\": \"4\", \"year\": 2008, \"model\": \"toyota tacoma 4wd\", \"trans\": \"auto(l5)\", \"fl\": \"r\", \"class\": \"pickup\", \"manufacturer\": \"toyota\", \"cyl\": 6}, {\"displ\": 2.0, \"hwy\": 29, \"cty\": 21, \"drv\": \"f\", \"year\": 1999, \"model\": \"gti\", \"trans\": \"manual(m5)\", \"fl\": \"r\", \"class\": \"compact\", \"manufacturer\": \"volkswagen\", \"cyl\": 4}, {\"displ\": 2.0, \"hwy\": 26, \"cty\": 19, \"drv\": \"f\", \"year\": 1999, \"model\": \"gti\", \"trans\": \"auto(l4)\", \"fl\": \"r\", \"class\": \"compact\", \"manufacturer\": \"volkswagen\", \"cyl\": 4}, {\"displ\": 2.0, \"hwy\": 29, \"cty\": 21, \"drv\": \"f\", \"year\": 2008, \"model\": \"gti\", \"trans\": \"manual(m6)\", \"fl\": \"p\", \"class\": \"compact\", \"manufacturer\": \"volkswagen\", \"cyl\": 4}, {\"displ\": 2.0, \"hwy\": 29, \"cty\": 22, \"drv\": \"f\", \"year\": 2008, \"model\": \"gti\", \"trans\": \"auto(s6)\", \"fl\": \"p\", \"class\": \"compact\", \"manufacturer\": \"volkswagen\", \"cyl\": 4}, {\"displ\": 2.8, \"hwy\": 24, \"cty\": 17, \"drv\": \"f\", \"year\": 1999, \"model\": \"gti\", \"trans\": \"manual(m5)\", \"fl\": \"r\", \"class\": \"compact\", \"manufacturer\": \"volkswagen\", \"cyl\": 6}, {\"displ\": 1.9, \"hwy\": 44, \"cty\": 33, \"drv\": \"f\", \"year\": 1999, \"model\": \"jetta\", \"trans\": \"manual(m5)\", \"fl\": \"d\", \"class\": \"compact\", \"manufacturer\": \"volkswagen\", \"cyl\": 4}, {\"displ\": 2.0, \"hwy\": 29, \"cty\": 21, \"drv\": \"f\", \"year\": 1999, \"model\": \"jetta\", \"trans\": \"manual(m5)\", \"fl\": \"r\", \"class\": \"compact\", \"manufacturer\": \"volkswagen\", \"cyl\": 4}, {\"displ\": 2.0, \"hwy\": 26, \"cty\": 19, \"drv\": \"f\", \"year\": 1999, \"model\": \"jetta\", \"trans\": \"auto(l4)\", \"fl\": \"r\", \"class\": \"compact\", \"manufacturer\": \"volkswagen\", \"cyl\": 4}, {\"displ\": 2.0, \"hwy\": 29, \"cty\": 22, \"drv\": \"f\", \"year\": 2008, \"model\": \"jetta\", \"trans\": \"auto(s6)\", \"fl\": \"p\", \"class\": \"compact\", \"manufacturer\": \"volkswagen\", \"cyl\": 4}, {\"displ\": 2.0, \"hwy\": 29, \"cty\": 21, \"drv\": \"f\", \"year\": 2008, \"model\": \"jetta\", \"trans\": \"manual(m6)\", \"fl\": \"p\", \"class\": \"compact\", \"manufacturer\": \"volkswagen\", \"cyl\": 4}, {\"displ\": 2.5, \"hwy\": 29, \"cty\": 21, \"drv\": \"f\", \"year\": 2008, \"model\": \"jetta\", \"trans\": \"auto(s6)\", \"fl\": \"r\", \"class\": \"compact\", \"manufacturer\": \"volkswagen\", \"cyl\": 5}, {\"displ\": 2.5, \"hwy\": 29, \"cty\": 21, \"drv\": \"f\", \"year\": 2008, \"model\": \"jetta\", \"trans\": \"manual(m5)\", \"fl\": \"r\", \"class\": \"compact\", \"manufacturer\": \"volkswagen\", \"cyl\": 5}, {\"displ\": 2.8, \"hwy\": 23, \"cty\": 16, \"drv\": \"f\", \"year\": 1999, \"model\": \"jetta\", \"trans\": \"auto(l4)\", \"fl\": \"r\", \"class\": \"compact\", \"manufacturer\": \"volkswagen\", \"cyl\": 6}, {\"displ\": 2.8, \"hwy\": 24, \"cty\": 17, \"drv\": \"f\", \"year\": 1999, \"model\": \"jetta\", \"trans\": \"manual(m5)\", \"fl\": \"r\", \"class\": \"compact\", \"manufacturer\": \"volkswagen\", \"cyl\": 6}, {\"displ\": 1.9, \"hwy\": 44, \"cty\": 35, \"drv\": \"f\", \"year\": 1999, \"model\": \"new beetle\", \"trans\": \"manual(m5)\", \"fl\": \"d\", \"class\": \"subcompact\", \"manufacturer\": \"volkswagen\", \"cyl\": 4}, {\"displ\": 1.9, \"hwy\": 41, \"cty\": 29, \"drv\": \"f\", \"year\": 1999, \"model\": \"new beetle\", \"trans\": \"auto(l4)\", \"fl\": \"d\", \"class\": \"subcompact\", \"manufacturer\": \"volkswagen\", \"cyl\": 4}, {\"displ\": 2.0, \"hwy\": 29, \"cty\": 21, \"drv\": \"f\", \"year\": 1999, \"model\": \"new beetle\", \"trans\": \"manual(m5)\", \"fl\": \"r\", \"class\": \"subcompact\", \"manufacturer\": \"volkswagen\", \"cyl\": 4}, {\"displ\": 2.0, \"hwy\": 26, \"cty\": 19, \"drv\": \"f\", \"year\": 1999, \"model\": \"new beetle\", \"trans\": \"auto(l4)\", \"fl\": \"r\", \"class\": \"subcompact\", \"manufacturer\": \"volkswagen\", \"cyl\": 4}, {\"displ\": 2.5, \"hwy\": 28, \"cty\": 20, \"drv\": \"f\", \"year\": 2008, \"model\": \"new beetle\", \"trans\": \"manual(m5)\", \"fl\": \"r\", \"class\": \"subcompact\", \"manufacturer\": \"volkswagen\", \"cyl\": 5}, {\"displ\": 2.5, \"hwy\": 29, \"cty\": 20, \"drv\": \"f\", \"year\": 2008, \"model\": \"new beetle\", \"trans\": \"auto(s6)\", \"fl\": \"r\", \"class\": \"subcompact\", \"manufacturer\": \"volkswagen\", \"cyl\": 5}, {\"displ\": 1.8, \"hwy\": 29, \"cty\": 21, \"drv\": \"f\", \"year\": 1999, \"model\": \"passat\", \"trans\": \"manual(m5)\", \"fl\": \"p\", \"class\": \"midsize\", \"manufacturer\": \"volkswagen\", \"cyl\": 4}, {\"displ\": 1.8, \"hwy\": 29, \"cty\": 18, \"drv\": \"f\", \"year\": 1999, \"model\": \"passat\", \"trans\": \"auto(l5)\", \"fl\": \"p\", \"class\": \"midsize\", \"manufacturer\": \"volkswagen\", \"cyl\": 4}, {\"displ\": 2.0, \"hwy\": 28, \"cty\": 19, \"drv\": \"f\", \"year\": 2008, \"model\": \"passat\", \"trans\": \"auto(s6)\", \"fl\": \"p\", \"class\": \"midsize\", \"manufacturer\": \"volkswagen\", \"cyl\": 4}, {\"displ\": 2.0, \"hwy\": 29, \"cty\": 21, \"drv\": \"f\", \"year\": 2008, \"model\": \"passat\", \"trans\": \"manual(m6)\", \"fl\": \"p\", \"class\": \"midsize\", \"manufacturer\": \"volkswagen\", \"cyl\": 4}, {\"displ\": 2.8, \"hwy\": 26, \"cty\": 16, \"drv\": \"f\", \"year\": 1999, \"model\": \"passat\", \"trans\": \"auto(l5)\", \"fl\": \"p\", \"class\": \"midsize\", \"manufacturer\": \"volkswagen\", \"cyl\": 6}, {\"displ\": 2.8, \"hwy\": 26, \"cty\": 18, \"drv\": \"f\", \"year\": 1999, \"model\": \"passat\", \"trans\": \"manual(m5)\", \"fl\": \"p\", \"class\": \"midsize\", \"manufacturer\": \"volkswagen\", \"cyl\": 6}, {\"displ\": 3.6, \"hwy\": 26, \"cty\": 17, \"drv\": \"f\", \"year\": 2008, \"model\": \"passat\", \"trans\": \"auto(s6)\", \"fl\": \"p\", \"class\": \"midsize\", \"manufacturer\": \"volkswagen\", \"cyl\": 6}]}, \"encoding\": {\"y\": {\"aggregate\": \"count\", \"field\": \"*\"}, \"x\": {\"bin\": {\"step\": 1.0, \"maxbins\": 10.0}, \"field\": \"cty\", \"type\": \"quantitative\"}}, \"config\": {\"cell\": {\"width\": 500, \"height\": 350}}, \"mark\": \"bar\"};\\n', 'var selector = \"#88dbf520-9c34-4cf2-b36b-268cfb47b1b0\";\\n', 'var type = \"vega-lite\";\\n', '\\n', 'var output_area = this;\\n', \"require(['nbextensions/jupyter-vega/index'], function(vega) {\\n\", '  vega.render(selector, spec, type, output_area);\\n', '}, function (err) {\\n', \"  if (err.requireType !== 'scripterror') {\\n\", '    throw(err);\\n', '  }\\n', '});\\n']}, 'metadata': {'jupyter-vega': '#88dbf520-9c34-4cf2-b36b-268cfb47b1b0'}, 'output_type': 'display_data'}, {'data': {'image/png': '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'}, 'metadata': {'jupyter-vega': '#88dbf520-9c34-4cf2-b36b-268cfb47b1b0'}, 'output_type': 'display_data'}], 'source': ['from altair import *\\n', 'chart = Chart(mpg)\\n', 'chart.mark_bar().encode(\\n', \"    y='count(*)',\\n\", \"    x=X('cty', bin=Bin(\\n\", '            maxbins=10.0, step=1\\n', '        ))\\n', ')']}, {'cell_type': 'markdown', 'metadata': {}, 'source': ['Todo\\n', '\\n', '1. Can individually make the 2 histograms and the scatter. How to combine the three and ofcourse rotating one of the histograms by 90 degrees.']}], 'metadata': {'kernelspec': {'display_name': 'Python 2', 'language': 'python', 'name': 'python2'}, 'language_info': {'codemirror_mode': {'name': 'ipython', 'version': 2}, 'file_extension': '.py', 'mimetype': 'text/x-python', 'name': 'python', 'nbconvert_exporter': 'python', 'pygments_lexer': 'ipython2', 'version': '2.7.13'}}, 'nbformat': 4, 'nbformat_minor': 2}\n",
      "[(1, '### Target\\n\\n![](http://r-statistics.co/screenshots/ggplot_masterlist_8_1.png)', 'markdown'), (2, 'import pandas as pd\\nmpg= pd.read_csv(\"http://goo.gl/uEeRGu\") ', 'code'), (3, \"from altair import *\\nchart = Chart(mpg)\\nchart.mark_bar().encode(\\n    y='count(*)',\\n    x=X('cty', bin=Bin(\\n            maxbins=10.0, step=1\\n        ))\\n)\", 'code'), (4, 'Todo\\n\\n1. Can individually make the 2 histograms and the scatter. How to combine the three and ofcourse rotating one of the histograms by 90 degrees.', 'markdown')]\n"
     ]
    }
   ],
   "source": [
    "# fail_filename = 'nb_gh_sample/nb_1107626.ipynb'\n",
    "fail_filename = 'nb_gh_sample/nb_1107929.ipynb'\n",
    "\n",
    "\n",
    "try:\n",
    "    nb_cells = read_all_cells_for_fail_check(fail_filename)\n",
    "    print (nb_cells)\n",
    "    \n",
    "#     cell_number_list, cell_type_list, prompt_list, cell_content_list = [], [], [], []\n",
    "\n",
    "#     for cell_number, content, cell_type in nb_cells:\n",
    "#         if len(content) > 0:\n",
    "#             messages = \"What specific prompt should I use to generate this code as the model's output?  Here is the code: \\n\\n \" + content\n",
    "#             response = chat_with_gpt(messages)\n",
    "\n",
    "#             prompt_list.append(response)\n",
    "#             cell_content_list.append(content)\n",
    "#             cell_number_list.append(cell_number)\n",
    "#             cell_type_list.append(cell_type)\n",
    "\n",
    "\n",
    "#     df = pd.DataFrame({'cell_number':cell_number_list, 'cell_type':cell_type_list, 'prompt': prompt_list, 'cell_content': cell_content_list})\n",
    "    # Print or process the code cells\n",
    "except Exception as e:\n",
    "    print (f\"Fail {'-'*5} {fail_filename+'.csv'}{'-'*10}\")\n",
    "    pass"
   ]
  },
  {
   "cell_type": "code",
   "execution_count": 29,
   "id": "d76b84c8-2b7a-4e6c-a1fb-15746c2c8842",
   "metadata": {
    "scrolled": true,
    "tags": []
   },
   "outputs": [
    {
     "name": "stdout",
     "output_type": "stream",
     "text": [
      "{'metadata': {'name': '02B_feature_extraction'}, 'nbformat': 3, 'nbformat_minor': 0, 'worksheets': [{'cells': [{'cell_type': 'heading', 'level': 1, 'metadata': {}, 'source': ['Feature Extraction']}, {'cell_type': 'markdown', 'metadata': {}, 'source': ['Here we will talk about an important piece of machine learning: the extraction of\\n', 'quantitative features from data.  By the end of this section you will\\n', '\\n', '- Know how features are extracted from real-world data.\\n', '- See an example of extracting numerical features from textual data\\n', '\\n', 'In addition, we will go over several basic tools within scikit-learn which can be used to accomplish the above tasks.']}, {'cell_type': 'heading', 'level': 2, 'metadata': {}, 'source': ['What Are Features?']}, {'cell_type': 'heading', 'level': 3, 'metadata': {}, 'source': ['Numerical Features']}, {'cell_type': 'markdown', 'metadata': {}, 'source': ['Recall that data in scikit-learn is expected to be in two-dimensional arrays, of size\\n', '**n_samples** $\\\\times$ **n_features**.\\n', '\\n', 'Previously, we looked at the iris dataset, which has 150 samples and 4 features']}, {'cell_type': 'code', 'collapsed': False, 'input': ['from sklearn.datasets import load_iris\\n', 'iris = load_iris()\\n', 'print iris.data.shape'], 'language': 'python', 'metadata': {}, 'outputs': [{'output_type': 'stream', 'stream': 'stdout', 'text': ['(150, 4)\\n']}], 'prompt_number': 0}, {'cell_type': 'markdown', 'metadata': {}, 'source': ['These features are:\\n', '\\n', '- sepal length in cm\\n', '- sepal width in cm\\n', '- petal length in cm\\n', '- petal width in cm\\n', '\\n', 'Numerical features such as these are pretty straightforward: each sample contains a list\\n', 'of floating-point numbers corresponding to the features']}, {'cell_type': 'heading', 'level': 3, 'metadata': {}, 'source': ['Categorical Features']}, {'cell_type': 'markdown', 'metadata': {}, 'source': ['What if you have categorical features?  For example, imagine there is data on the color of each\\n', 'iris:\\n', '\\n', '    color in [red, blue, purple]\\n', '\\n', 'You might be tempted to assign numbers to these features, i.e. *red=1, blue=2, purple=3*\\n', 'but in general **this is a bad idea**.  Estimators tend to operate under the assumption that\\n', 'numerical features lie on some continuous scale, so, for example, 1 and 2 are more alike\\n', 'than 1 and 3, and this is often not the case for categorical features.\\n', '\\n', 'A better strategy is to give each category its own dimension.  \\n', 'The enriched iris feature set would hence be in this case:\\n', '\\n', '- sepal length in cm\\n', '- sepal width in cm\\n', '- petal length in cm\\n', '- petal width in cm\\n', '- color=purple (1.0 or 0.0)\\n', '- color=blue (1.0 or 0.0)\\n', '- color=red (1.0 or 0.0)\\n', '\\n', 'Note that using many of these categorical features may result in data which is better\\n', \"represented as a **sparse matrix**, as we'll see with the text classification example\\n\", 'below.']}, {'cell_type': 'heading', 'level': 4, 'metadata': {}, 'source': ['Using the DictVectorizer to encode categorical features']}, {'cell_type': 'markdown', 'metadata': {}, 'source': ['When the source data is encoded has a list of dicts where the values are either strings names for categories or numerical values, you can use the `DictVectorizer` class to compute the boolean expansion of the categorical features while leaving the numerical features unimpacted:']}, {'cell_type': 'code', 'collapsed': False, 'input': ['measurements = [\\n', \"    {'city': 'Dubai', 'temperature': 33.},\\n\", \"    {'city': 'London', 'temperature': 12.},\\n\", \"    {'city': 'San Fransisco', 'temperature': 18.},\\n\", ']'], 'language': 'python', 'metadata': {}, 'outputs': [], 'prompt_number': 1}, {'cell_type': 'code', 'collapsed': False, 'input': ['from sklearn.feature_extraction import DictVectorizer\\n', '\\n', 'vec = DictVectorizer()\\n', 'vec'], 'language': 'python', 'metadata': {}, 'outputs': [{'output_type': 'pyout', 'prompt_number': 4, 'text': [\"DictVectorizer(dtype=<type 'numpy.float64'>, separator='=', sparse=True)\"]}], 'prompt_number': 2}, {'cell_type': 'code', 'collapsed': False, 'input': ['vec.fit_transform(measurements).toarray()'], 'language': 'python', 'metadata': {}, 'outputs': [{'output_type': 'pyout', 'prompt_number': 5, 'text': ['array([[  1.,   0.,   0.,  33.],\\n', '       [  0.,   1.,   0.,  12.],\\n', '       [  0.,   0.,   1.,  18.]])']}], 'prompt_number': 3}, {'cell_type': 'code', 'collapsed': False, 'input': ['vec.get_feature_names()'], 'language': 'python', 'metadata': {}, 'outputs': [{'output_type': 'pyout', 'prompt_number': 6, 'text': [\"['city=Dubai', 'city=London', 'city=San Fransisco', 'temperature']\"]}], 'prompt_number': 4}, {'cell_type': 'heading', 'level': 3, 'metadata': {}, 'source': ['Derived Features']}, {'cell_type': 'markdown', 'metadata': {}, 'source': ['Another common feature type are **derived features**, where some pre-processing step is\\n', 'applied to the data to generate features that are somehow more informative.  Derived\\n', 'features may be based in **dimensionality reduction** (such as PCA or manifold learning),\\n', 'may be linear or nonlinear combinations of features (such as in Polynomial regression),\\n', 'or may be some more sophisticated transform of the features.  The latter is often used\\n', 'in image processing.\\n', '\\n', 'For example, [scikit-image](http://scikit-image.org/) provides a variety of feature\\n', 'extractors designed for image data: see the ``skimage.feature`` submodule.\\n', 'We will see some *dimensionality*-based feature extraction routines later in the tutorial.']}, {'cell_type': 'heading', 'level': 3, 'metadata': {}, 'source': ['Text Feature Extraction']}, {'cell_type': 'markdown', 'metadata': {}, 'source': ['Unstructed content such as text documents require there own feature extraction step. In general we treat words in text documents as individual categorical features. An example on text mining will be introduced later, at the end of this session.']}], 'metadata': {}}]}\n",
      "Fail ----- nb_gh_sample/nb_1107626.ipynb.csv----------\n"
     ]
    }
   ],
   "source": [
    "fail_filename = 'nb_gh_sample/nb_1107626.ipynb'\n",
    "# fail_filename = 'nb_gh_sample/nb_1107929.ipynb'\n",
    "\n",
    "try:\n",
    "    nb_cells = read_all_cells_for_fail_check(fail_filename)\n",
    "    print (nb_cells)\n",
    "    # Print or process the code cells\n",
    "except Exception as e:\n",
    "    print (f\"Fail {'-'*5} {fail_filename+'.csv'}{'-'*10}\")\n",
    "    pass"
   ]
  }
 ],
 "metadata": {
  "kernelspec": {
   "display_name": "Python 3 (ipykernel)",
   "language": "python",
   "name": "python3"
  },
  "language_info": {
   "codemirror_mode": {
    "name": "ipython",
    "version": 3
   },
   "file_extension": ".py",
   "mimetype": "text/x-python",
   "name": "python",
   "nbconvert_exporter": "python",
   "pygments_lexer": "ipython3",
   "version": "3.9.19"
  }
 },
 "nbformat": 4,
 "nbformat_minor": 5
}
